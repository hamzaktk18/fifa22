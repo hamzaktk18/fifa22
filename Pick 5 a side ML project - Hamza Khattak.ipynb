{
 "cells": [
  {
   "cell_type": "code",
   "execution_count": 2,
   "id": "ad393e08",
   "metadata": {},
   "outputs": [],
   "source": [
    "# Python ≥3.5 is required\n",
    "import sys\n",
    "assert sys.version_info >= (3, 5)\n",
    "\n",
    "# Scikit-Learn ≥0.20 is required\n",
    "import sklearn\n",
    "assert sklearn.__version__ >= \"0.20\"\n",
    "\n",
    "# Common imports\n",
    "import pandas as pd\n",
    "import numpy as np\n",
    "import os\n",
    "\n",
    "# to make this notebook's output stable across runs\n",
    "np.random.seed(42)\n",
    "\n",
    "# To plot pretty figures\n",
    "%matplotlib inline\n",
    "import matplotlib as mpl\n",
    "import matplotlib.pyplot as plt\n",
    "mpl.rc('axes', labelsize=14)\n",
    "mpl.rc('xtick', labelsize=12)\n",
    "mpl.rc('ytick', labelsize=12)\n",
    "\n",
    "# Where to save the figures\n",
    "PROJECT_ROOT_DIR = \".\"\n",
    "CHAPTER_ID = \"decision_trees\"\n",
    "IMAGES_PATH = os.path.join(PROJECT_ROOT_DIR, \"images\", CHAPTER_ID)\n",
    "os.makedirs(IMAGES_PATH, exist_ok=True)\n",
    "\n",
    "def save_fig(fig_id, tight_layout=True, fig_extension=\"png\", resolution=300):\n",
    "    path = os.path.join(IMAGES_PATH, fig_id + \".\" + fig_extension)\n",
    "    print(\"Saving figure\", fig_id)\n",
    "    if tight_layout:\n",
    "        plt.tight_layout()\n",
    "    plt.savefig(path, format=fig_extension, dpi=resolution)"
   ]
  },
  {
   "cell_type": "code",
   "execution_count": 3,
   "id": "3ed3c0f8",
   "metadata": {},
   "outputs": [],
   "source": [
    "df = pd.read_csv(\"FIFA22_official_data.csv\")"
   ]
  },
  {
   "cell_type": "code",
   "execution_count": 4,
   "id": "684108c1",
   "metadata": {},
   "outputs": [
    {
     "data": {
      "text/html": [
       "<div>\n",
       "<style scoped>\n",
       "    .dataframe tbody tr th:only-of-type {\n",
       "        vertical-align: middle;\n",
       "    }\n",
       "\n",
       "    .dataframe tbody tr th {\n",
       "        vertical-align: top;\n",
       "    }\n",
       "\n",
       "    .dataframe thead th {\n",
       "        text-align: right;\n",
       "    }\n",
       "</style>\n",
       "<table border=\"1\" class=\"dataframe\">\n",
       "  <thead>\n",
       "    <tr style=\"text-align: right;\">\n",
       "      <th></th>\n",
       "      <th>ID</th>\n",
       "      <th>Age</th>\n",
       "      <th>Overall</th>\n",
       "      <th>Potential</th>\n",
       "      <th>Value</th>\n",
       "      <th>Special</th>\n",
       "      <th>International Reputation</th>\n",
       "      <th>Weak Foot</th>\n",
       "      <th>Skill Moves</th>\n",
       "      <th>Jersey Number</th>\n",
       "      <th>...</th>\n",
       "      <th>Composure</th>\n",
       "      <th>StandingTackle</th>\n",
       "      <th>SlidingTackle</th>\n",
       "      <th>GKDiving</th>\n",
       "      <th>GKHandling</th>\n",
       "      <th>GKKicking</th>\n",
       "      <th>GKPositioning</th>\n",
       "      <th>GKReflexes</th>\n",
       "      <th>Best Overall Rating</th>\n",
       "      <th>DefensiveAwareness</th>\n",
       "    </tr>\n",
       "  </thead>\n",
       "  <tbody>\n",
       "    <tr>\n",
       "      <th>count</th>\n",
       "      <td>16710.000000</td>\n",
       "      <td>16710.000000</td>\n",
       "      <td>16710.000000</td>\n",
       "      <td>16710.000000</td>\n",
       "      <td>16710.000000</td>\n",
       "      <td>16710.000000</td>\n",
       "      <td>16710.000000</td>\n",
       "      <td>16710.000000</td>\n",
       "      <td>16710.000000</td>\n",
       "      <td>16684.000000</td>\n",
       "      <td>...</td>\n",
       "      <td>16459.000000</td>\n",
       "      <td>16710.000000</td>\n",
       "      <td>16673.000000</td>\n",
       "      <td>16710.000000</td>\n",
       "      <td>16710.000000</td>\n",
       "      <td>16710.000000</td>\n",
       "      <td>16710.000000</td>\n",
       "      <td>16710.000000</td>\n",
       "      <td>16710.000000</td>\n",
       "      <td>15818.000000</td>\n",
       "    </tr>\n",
       "    <tr>\n",
       "      <th>mean</th>\n",
       "      <td>220560.467923</td>\n",
       "      <td>25.727409</td>\n",
       "      <td>67.646320</td>\n",
       "      <td>72.572292</td>\n",
       "      <td>3347.235787</td>\n",
       "      <td>1652.497307</td>\n",
       "      <td>1.169958</td>\n",
       "      <td>3.008199</td>\n",
       "      <td>2.475464</td>\n",
       "      <td>20.458643</td>\n",
       "      <td>...</td>\n",
       "      <td>61.001883</td>\n",
       "      <td>49.155536</td>\n",
       "      <td>46.830564</td>\n",
       "      <td>15.683662</td>\n",
       "      <td>15.521364</td>\n",
       "      <td>15.457989</td>\n",
       "      <td>15.581927</td>\n",
       "      <td>15.789228</td>\n",
       "      <td>68.565410</td>\n",
       "      <td>48.019408</td>\n",
       "    </tr>\n",
       "    <tr>\n",
       "      <th>std</th>\n",
       "      <td>38496.607959</td>\n",
       "      <td>5.048910</td>\n",
       "      <td>6.457695</td>\n",
       "      <td>5.688085</td>\n",
       "      <td>8123.399280</td>\n",
       "      <td>257.271696</td>\n",
       "      <td>0.485305</td>\n",
       "      <td>0.681742</td>\n",
       "      <td>0.791414</td>\n",
       "      <td>17.699813</td>\n",
       "      <td>...</td>\n",
       "      <td>11.399833</td>\n",
       "      <td>21.454857</td>\n",
       "      <td>21.175431</td>\n",
       "      <td>17.009757</td>\n",
       "      <td>16.302298</td>\n",
       "      <td>16.099993</td>\n",
       "      <td>16.584045</td>\n",
       "      <td>17.318251</td>\n",
       "      <td>6.256253</td>\n",
       "      <td>20.181354</td>\n",
       "    </tr>\n",
       "    <tr>\n",
       "      <th>min</th>\n",
       "      <td>27.000000</td>\n",
       "      <td>16.000000</td>\n",
       "      <td>28.000000</td>\n",
       "      <td>38.000000</td>\n",
       "      <td>0.000000</td>\n",
       "      <td>571.000000</td>\n",
       "      <td>1.000000</td>\n",
       "      <td>1.000000</td>\n",
       "      <td>1.000000</td>\n",
       "      <td>1.000000</td>\n",
       "      <td>...</td>\n",
       "      <td>12.000000</td>\n",
       "      <td>3.000000</td>\n",
       "      <td>6.000000</td>\n",
       "      <td>1.000000</td>\n",
       "      <td>1.000000</td>\n",
       "      <td>1.000000</td>\n",
       "      <td>1.000000</td>\n",
       "      <td>1.000000</td>\n",
       "      <td>36.000000</td>\n",
       "      <td>3.000000</td>\n",
       "    </tr>\n",
       "    <tr>\n",
       "      <th>25%</th>\n",
       "      <td>203891.250000</td>\n",
       "      <td>22.000000</td>\n",
       "      <td>63.000000</td>\n",
       "      <td>69.000000</td>\n",
       "      <td>600.000000</td>\n",
       "      <td>1525.000000</td>\n",
       "      <td>1.000000</td>\n",
       "      <td>3.000000</td>\n",
       "      <td>2.000000</td>\n",
       "      <td>8.000000</td>\n",
       "      <td>...</td>\n",
       "      <td>55.000000</td>\n",
       "      <td>29.000000</td>\n",
       "      <td>26.000000</td>\n",
       "      <td>8.000000</td>\n",
       "      <td>8.000000</td>\n",
       "      <td>8.000000</td>\n",
       "      <td>8.000000</td>\n",
       "      <td>8.000000</td>\n",
       "      <td>65.000000</td>\n",
       "      <td>30.000000</td>\n",
       "    </tr>\n",
       "    <tr>\n",
       "      <th>50%</th>\n",
       "      <td>229253.000000</td>\n",
       "      <td>25.000000</td>\n",
       "      <td>68.000000</td>\n",
       "      <td>72.000000</td>\n",
       "      <td>1200.000000</td>\n",
       "      <td>1687.000000</td>\n",
       "      <td>1.000000</td>\n",
       "      <td>3.000000</td>\n",
       "      <td>2.000000</td>\n",
       "      <td>17.000000</td>\n",
       "      <td>...</td>\n",
       "      <td>62.000000</td>\n",
       "      <td>57.000000</td>\n",
       "      <td>54.000000</td>\n",
       "      <td>11.000000</td>\n",
       "      <td>11.000000</td>\n",
       "      <td>11.000000</td>\n",
       "      <td>11.000000</td>\n",
       "      <td>11.000000</td>\n",
       "      <td>68.000000</td>\n",
       "      <td>54.000000</td>\n",
       "    </tr>\n",
       "    <tr>\n",
       "      <th>75%</th>\n",
       "      <td>245368.750000</td>\n",
       "      <td>29.000000</td>\n",
       "      <td>72.000000</td>\n",
       "      <td>76.000000</td>\n",
       "      <td>2500.000000</td>\n",
       "      <td>1826.000000</td>\n",
       "      <td>1.000000</td>\n",
       "      <td>3.000000</td>\n",
       "      <td>3.000000</td>\n",
       "      <td>27.000000</td>\n",
       "      <td>...</td>\n",
       "      <td>69.000000</td>\n",
       "      <td>67.000000</td>\n",
       "      <td>65.000000</td>\n",
       "      <td>14.000000</td>\n",
       "      <td>14.000000</td>\n",
       "      <td>14.000000</td>\n",
       "      <td>14.000000</td>\n",
       "      <td>14.000000</td>\n",
       "      <td>73.000000</td>\n",
       "      <td>65.000000</td>\n",
       "    </tr>\n",
       "    <tr>\n",
       "      <th>max</th>\n",
       "      <td>264704.000000</td>\n",
       "      <td>54.000000</td>\n",
       "      <td>93.000000</td>\n",
       "      <td>95.000000</td>\n",
       "      <td>194000.000000</td>\n",
       "      <td>2341.000000</td>\n",
       "      <td>5.000000</td>\n",
       "      <td>5.000000</td>\n",
       "      <td>5.000000</td>\n",
       "      <td>99.000000</td>\n",
       "      <td>...</td>\n",
       "      <td>96.000000</td>\n",
       "      <td>93.000000</td>\n",
       "      <td>95.000000</td>\n",
       "      <td>91.000000</td>\n",
       "      <td>92.000000</td>\n",
       "      <td>93.000000</td>\n",
       "      <td>93.000000</td>\n",
       "      <td>90.000000</td>\n",
       "      <td>93.000000</td>\n",
       "      <td>93.000000</td>\n",
       "    </tr>\n",
       "  </tbody>\n",
       "</table>\n",
       "<p>8 rows × 47 columns</p>\n",
       "</div>"
      ],
      "text/plain": [
       "                  ID           Age       Overall     Potential          Value  \\\n",
       "count   16710.000000  16710.000000  16710.000000  16710.000000   16710.000000   \n",
       "mean   220560.467923     25.727409     67.646320     72.572292    3347.235787   \n",
       "std     38496.607959      5.048910      6.457695      5.688085    8123.399280   \n",
       "min        27.000000     16.000000     28.000000     38.000000       0.000000   \n",
       "25%    203891.250000     22.000000     63.000000     69.000000     600.000000   \n",
       "50%    229253.000000     25.000000     68.000000     72.000000    1200.000000   \n",
       "75%    245368.750000     29.000000     72.000000     76.000000    2500.000000   \n",
       "max    264704.000000     54.000000     93.000000     95.000000  194000.000000   \n",
       "\n",
       "            Special  International Reputation     Weak Foot   Skill Moves  \\\n",
       "count  16710.000000              16710.000000  16710.000000  16710.000000   \n",
       "mean    1652.497307                  1.169958      3.008199      2.475464   \n",
       "std      257.271696                  0.485305      0.681742      0.791414   \n",
       "min      571.000000                  1.000000      1.000000      1.000000   \n",
       "25%     1525.000000                  1.000000      3.000000      2.000000   \n",
       "50%     1687.000000                  1.000000      3.000000      2.000000   \n",
       "75%     1826.000000                  1.000000      3.000000      3.000000   \n",
       "max     2341.000000                  5.000000      5.000000      5.000000   \n",
       "\n",
       "       Jersey Number  ...     Composure  StandingTackle  SlidingTackle  \\\n",
       "count   16684.000000  ...  16459.000000    16710.000000   16673.000000   \n",
       "mean       20.458643  ...     61.001883       49.155536      46.830564   \n",
       "std        17.699813  ...     11.399833       21.454857      21.175431   \n",
       "min         1.000000  ...     12.000000        3.000000       6.000000   \n",
       "25%         8.000000  ...     55.000000       29.000000      26.000000   \n",
       "50%        17.000000  ...     62.000000       57.000000      54.000000   \n",
       "75%        27.000000  ...     69.000000       67.000000      65.000000   \n",
       "max        99.000000  ...     96.000000       93.000000      95.000000   \n",
       "\n",
       "           GKDiving    GKHandling     GKKicking  GKPositioning    GKReflexes  \\\n",
       "count  16710.000000  16710.000000  16710.000000   16710.000000  16710.000000   \n",
       "mean      15.683662     15.521364     15.457989      15.581927     15.789228   \n",
       "std       17.009757     16.302298     16.099993      16.584045     17.318251   \n",
       "min        1.000000      1.000000      1.000000       1.000000      1.000000   \n",
       "25%        8.000000      8.000000      8.000000       8.000000      8.000000   \n",
       "50%       11.000000     11.000000     11.000000      11.000000     11.000000   \n",
       "75%       14.000000     14.000000     14.000000      14.000000     14.000000   \n",
       "max       91.000000     92.000000     93.000000      93.000000     90.000000   \n",
       "\n",
       "       Best Overall Rating  DefensiveAwareness  \n",
       "count         16710.000000        15818.000000  \n",
       "mean             68.565410           48.019408  \n",
       "std               6.256253           20.181354  \n",
       "min              36.000000            3.000000  \n",
       "25%              65.000000           30.000000  \n",
       "50%              68.000000           54.000000  \n",
       "75%              73.000000           65.000000  \n",
       "max              93.000000           93.000000  \n",
       "\n",
       "[8 rows x 47 columns]"
      ]
     },
     "execution_count": 4,
     "metadata": {},
     "output_type": "execute_result"
    }
   ],
   "source": [
    "df.head()\n",
    "df.describe()"
   ]
  },
  {
   "cell_type": "code",
   "execution_count": 5,
   "id": "62093013",
   "metadata": {},
   "outputs": [
    {
     "name": "stdout",
     "output_type": "stream",
     "text": [
      "62\n"
     ]
    },
    {
     "data": {
      "text/plain": [
       "array(['ID', 'Name', 'Age', 'Photo', 'Nationality', 'Flag', 'Overall',\n",
       "       'Potential', 'Club', 'Club Logo', 'Value', 'Special',\n",
       "       'Preferred Foot', 'International Reputation', 'Weak Foot',\n",
       "       'Skill Moves', 'Work Rate', 'Body Type', 'Real Face', 'Position',\n",
       "       'Jersey Number', 'Joined', 'Contract Valid Until', 'Height(in cm)',\n",
       "       'Weight(kgs)', 'Crossing', 'Finishing', 'HeadingAccuracy',\n",
       "       'ShortPassing', 'Volleys', 'Dribbling', 'Curve', 'FKAccuracy',\n",
       "       'LongPassing', 'BallControl', 'Acceleration', 'SprintSpeed',\n",
       "       'Agility', 'Reactions', 'Balance', 'ShotPower', 'Jumping',\n",
       "       'Stamina', 'Strength', 'LongShots', 'Aggression', 'Interceptions',\n",
       "       'Positioning', 'Vision', 'Penalties', 'Composure',\n",
       "       'StandingTackle', 'SlidingTackle', 'GKDiving', 'GKHandling',\n",
       "       'GKKicking', 'GKPositioning', 'GKReflexes', 'Best Position',\n",
       "       'Best Overall Rating', 'Release Clause', 'DefensiveAwareness'],\n",
       "      dtype=object)"
      ]
     },
     "execution_count": 5,
     "metadata": {},
     "output_type": "execute_result"
    }
   ],
   "source": [
    "print(len(df.columns.values))\n",
    "df.columns.values"
   ]
  },
  {
   "cell_type": "code",
   "execution_count": 6,
   "id": "589ecb85",
   "metadata": {},
   "outputs": [
    {
     "name": "stdout",
     "output_type": "stream",
     "text": [
      "Number of rows with NaN values: 2312\n"
     ]
    }
   ],
   "source": [
    "# Replace '#VALUE!' with NaN\n",
    "df.replace('#VALUE!', np.nan, inplace=True)\n",
    "rows_with_nan = df.isna().any(axis=1)\n",
    "count_rows_with_nan = rows_with_nan.sum()\n",
    "\n",
    "print(\"Number of rows with NaN values:\", count_rows_with_nan)"
   ]
  },
  {
   "cell_type": "code",
   "execution_count": 7,
   "id": "6b736266",
   "metadata": {},
   "outputs": [
    {
     "name": "stdout",
     "output_type": "stream",
     "text": [
      "DataFrame after dropping rows with NaN values:\n",
      "           ID             Name  Age  \\\n",
      "0      212198  Bruno Fernandes   26   \n",
      "1      209658      L. Goretzka   26   \n",
      "2      176580        L. Suárez   34   \n",
      "3      192985     K. De Bruyne   30   \n",
      "4      224334         M. Acuña   29   \n",
      "...       ...              ...  ...   \n",
      "14393  259718      F. Gebhardt   19   \n",
      "14394  251433          B. Voll   20   \n",
      "14395  262846         �. Dobre   20   \n",
      "14396  241317   21 Xue Qinghao   19   \n",
      "14397  259646        A. Shaikh   18   \n",
      "\n",
      "                                                  Photo Nationality  \\\n",
      "0      https://cdn.sofifa.net/players/212/198/22_60.png    Portugal   \n",
      "1      https://cdn.sofifa.net/players/209/658/22_60.png     Germany   \n",
      "2      https://cdn.sofifa.net/players/176/580/22_60.png     Uruguay   \n",
      "3      https://cdn.sofifa.net/players/192/985/22_60.png     Belgium   \n",
      "4      https://cdn.sofifa.net/players/224/334/22_60.png   Argentina   \n",
      "...                                                 ...         ...   \n",
      "14393  https://cdn.sofifa.net/players/259/718/22_60.png     Germany   \n",
      "14394  https://cdn.sofifa.net/players/251/433/22_60.png     Germany   \n",
      "14395  https://cdn.sofifa.net/players/262/846/22_60.png     Romania   \n",
      "14396  https://cdn.sofifa.net/players/241/317/21_60.png    China PR   \n",
      "14397  https://cdn.sofifa.net/players/259/646/22_60.png       India   \n",
      "\n",
      "                                      Flag  Overall  Potential  \\\n",
      "0      https://cdn.sofifa.net/flags/pt.png       88         89   \n",
      "1      https://cdn.sofifa.net/flags/de.png       87         88   \n",
      "2      https://cdn.sofifa.net/flags/uy.png       88         88   \n",
      "3      https://cdn.sofifa.net/flags/be.png       91         91   \n",
      "4      https://cdn.sofifa.net/flags/ar.png       84         84   \n",
      "...                                    ...      ...        ...   \n",
      "14393  https://cdn.sofifa.net/flags/de.png       52         66   \n",
      "14394  https://cdn.sofifa.net/flags/de.png       58         69   \n",
      "14395  https://cdn.sofifa.net/flags/ro.png       53         63   \n",
      "14396  https://cdn.sofifa.net/flags/cn.png       47         60   \n",
      "14397  https://cdn.sofifa.net/flags/in.png       47         67   \n",
      "\n",
      "                        Club                                   Club Logo  ...  \\\n",
      "0          Manchester United      https://cdn.sofifa.net/teams/11/30.png  ...   \n",
      "1          FC Bayern München      https://cdn.sofifa.net/teams/21/30.png  ...   \n",
      "2         Atlético de Madrid     https://cdn.sofifa.net/teams/240/30.png  ...   \n",
      "3            Manchester City      https://cdn.sofifa.net/teams/10/30.png  ...   \n",
      "4                 Sevilla FC     https://cdn.sofifa.net/teams/481/30.png  ...   \n",
      "...                      ...                                         ...  ...   \n",
      "14393          FC Basel 1893     https://cdn.sofifa.net/teams/896/30.png  ...   \n",
      "14394     F.C. Hansa Rostock      https://cdn.sofifa.net/teams/27/30.png  ...   \n",
      "14395  FC Academica Clinceni  https://cdn.sofifa.net/teams/113391/30.png  ...   \n",
      "14396    Shanghai Shenhua FC  https://cdn.sofifa.net/teams/110955/30.png  ...   \n",
      "14397     ATK Mohun Bagan FC  https://cdn.sofifa.net/teams/113146/30.png  ...   \n",
      "\n",
      "       SlidingTackle  GKDiving GKHandling  GKKicking  GKPositioning  \\\n",
      "0               65.0        12         14         15              8   \n",
      "1               77.0        13          8         15             11   \n",
      "2               38.0        27         25         31             33   \n",
      "3               53.0        15         13          5             10   \n",
      "4               82.0         8         14         13             13   \n",
      "...              ...       ...        ...        ...            ...   \n",
      "14393           10.0        53         45         47             52   \n",
      "14394           10.0        59         60         56             55   \n",
      "14395           12.0        57         52         53             48   \n",
      "14396            9.0        49         48         45             38   \n",
      "14397           13.0        49         41         39             45   \n",
      "\n",
      "       GKReflexes Best Position Best Overall Rating Release Clause  \\\n",
      "0              14           CAM                  88         206900   \n",
      "1               9            CM                  87         160400   \n",
      "2              37            ST                  88          91200   \n",
      "3              13            CM                  91         232200   \n",
      "4              14            LB                  84          77700   \n",
      "...           ...           ...                 ...            ...   \n",
      "14393          57            GK                  52            361   \n",
      "14394          61            GK                  58            656   \n",
      "14395          58            GK                  53            279   \n",
      "14396          52            GK                  47            223   \n",
      "14397          49            GK                  47            259   \n",
      "\n",
      "      DefensiveAwareness  \n",
      "0                   72.0  \n",
      "1                   74.0  \n",
      "2                   42.0  \n",
      "3                   68.0  \n",
      "4                   80.0  \n",
      "...                  ...  \n",
      "14393                6.0  \n",
      "14394                5.0  \n",
      "14395                5.0  \n",
      "14396               21.0  \n",
      "14397                7.0  \n",
      "\n",
      "[14398 rows x 62 columns]\n"
     ]
    }
   ],
   "source": [
    "# Dropping all rows with NaN values\n",
    "df_cleaned = df.dropna().reset_index(drop=True)\n",
    "print(\"DataFrame after dropping rows with NaN values:\")\n",
    "print(df_cleaned)"
   ]
  },
  {
   "cell_type": "code",
   "execution_count": 8,
   "id": "b3776ede",
   "metadata": {},
   "outputs": [],
   "source": [
    "#keeping important features only\n",
    "df_features_imp = df_cleaned[['Potential','Skill Moves','Weight(kgs)','ShortPassing','LongPassing','Agility','Stamina','Positioning','StandingTackle','GKKicking','Best Overall Rating','DefensiveAwareness','Crossing','Volleys','BallControl','Reactions','Strength','Vision','SlidingTackle','GKPositioning','Weak Foot','Finishing','Dribbling','Acceleration','Balance','LongShots','Penalties','GKDiving','GKReflexes','Height(in cm)','HeadingAccuracy','Curve','SprintSpeed','ShotPower','Aggression','Composure','GKHandling','Overall','FKAccuracy','Jumping','Interceptions']]"
   ]
  },
  {
   "cell_type": "code",
   "execution_count": 9,
   "id": "f2ab5de7",
   "metadata": {
    "scrolled": false
   },
   "outputs": [
    {
     "data": {
      "text/html": [
       "<div>\n",
       "<style scoped>\n",
       "    .dataframe tbody tr th:only-of-type {\n",
       "        vertical-align: middle;\n",
       "    }\n",
       "\n",
       "    .dataframe tbody tr th {\n",
       "        vertical-align: top;\n",
       "    }\n",
       "\n",
       "    .dataframe thead th {\n",
       "        text-align: right;\n",
       "    }\n",
       "</style>\n",
       "<table border=\"1\" class=\"dataframe\">\n",
       "  <thead>\n",
       "    <tr style=\"text-align: right;\">\n",
       "      <th></th>\n",
       "      <th>Potential</th>\n",
       "      <th>Skill Moves</th>\n",
       "      <th>Weight(kgs)</th>\n",
       "      <th>ShortPassing</th>\n",
       "      <th>LongPassing</th>\n",
       "      <th>Agility</th>\n",
       "      <th>Stamina</th>\n",
       "      <th>Positioning</th>\n",
       "      <th>StandingTackle</th>\n",
       "      <th>GKKicking</th>\n",
       "      <th>...</th>\n",
       "      <th>Curve</th>\n",
       "      <th>SprintSpeed</th>\n",
       "      <th>ShotPower</th>\n",
       "      <th>Aggression</th>\n",
       "      <th>Composure</th>\n",
       "      <th>GKHandling</th>\n",
       "      <th>Overall</th>\n",
       "      <th>FKAccuracy</th>\n",
       "      <th>Jumping</th>\n",
       "      <th>Interceptions</th>\n",
       "    </tr>\n",
       "  </thead>\n",
       "  <tbody>\n",
       "    <tr>\n",
       "      <th>0</th>\n",
       "      <td>89</td>\n",
       "      <td>4</td>\n",
       "      <td>69</td>\n",
       "      <td>91</td>\n",
       "      <td>88</td>\n",
       "      <td>80.0</td>\n",
       "      <td>91</td>\n",
       "      <td>87.0</td>\n",
       "      <td>73</td>\n",
       "      <td>15</td>\n",
       "      <td>...</td>\n",
       "      <td>87.0</td>\n",
       "      <td>73</td>\n",
       "      <td>89</td>\n",
       "      <td>78</td>\n",
       "      <td>87.0</td>\n",
       "      <td>14</td>\n",
       "      <td>88</td>\n",
       "      <td>87</td>\n",
       "      <td>73.0</td>\n",
       "      <td>66.0</td>\n",
       "    </tr>\n",
       "    <tr>\n",
       "      <th>1</th>\n",
       "      <td>88</td>\n",
       "      <td>3</td>\n",
       "      <td>82</td>\n",
       "      <td>86</td>\n",
       "      <td>84</td>\n",
       "      <td>76.0</td>\n",
       "      <td>88</td>\n",
       "      <td>85.0</td>\n",
       "      <td>85</td>\n",
       "      <td>15</td>\n",
       "      <td>...</td>\n",
       "      <td>76.0</td>\n",
       "      <td>83</td>\n",
       "      <td>85</td>\n",
       "      <td>81</td>\n",
       "      <td>82.0</td>\n",
       "      <td>8</td>\n",
       "      <td>87</td>\n",
       "      <td>75</td>\n",
       "      <td>79.0</td>\n",
       "      <td>86.0</td>\n",
       "    </tr>\n",
       "    <tr>\n",
       "      <th>2</th>\n",
       "      <td>88</td>\n",
       "      <td>3</td>\n",
       "      <td>83</td>\n",
       "      <td>83</td>\n",
       "      <td>77</td>\n",
       "      <td>75.0</td>\n",
       "      <td>78</td>\n",
       "      <td>91.0</td>\n",
       "      <td>45</td>\n",
       "      <td>31</td>\n",
       "      <td>...</td>\n",
       "      <td>86.0</td>\n",
       "      <td>69</td>\n",
       "      <td>89</td>\n",
       "      <td>87</td>\n",
       "      <td>87.0</td>\n",
       "      <td>25</td>\n",
       "      <td>88</td>\n",
       "      <td>82</td>\n",
       "      <td>69.0</td>\n",
       "      <td>41.0</td>\n",
       "    </tr>\n",
       "    <tr>\n",
       "      <th>3</th>\n",
       "      <td>91</td>\n",
       "      <td>4</td>\n",
       "      <td>70</td>\n",
       "      <td>94</td>\n",
       "      <td>93</td>\n",
       "      <td>79.0</td>\n",
       "      <td>89</td>\n",
       "      <td>88.0</td>\n",
       "      <td>65</td>\n",
       "      <td>5</td>\n",
       "      <td>...</td>\n",
       "      <td>85.0</td>\n",
       "      <td>76</td>\n",
       "      <td>91</td>\n",
       "      <td>76</td>\n",
       "      <td>89.0</td>\n",
       "      <td>13</td>\n",
       "      <td>91</td>\n",
       "      <td>83</td>\n",
       "      <td>63.0</td>\n",
       "      <td>66.0</td>\n",
       "    </tr>\n",
       "    <tr>\n",
       "      <th>4</th>\n",
       "      <td>84</td>\n",
       "      <td>4</td>\n",
       "      <td>69</td>\n",
       "      <td>82</td>\n",
       "      <td>78</td>\n",
       "      <td>83.0</td>\n",
       "      <td>90</td>\n",
       "      <td>81.0</td>\n",
       "      <td>84</td>\n",
       "      <td>13</td>\n",
       "      <td>...</td>\n",
       "      <td>88.0</td>\n",
       "      <td>76</td>\n",
       "      <td>82</td>\n",
       "      <td>84</td>\n",
       "      <td>87.0</td>\n",
       "      <td>14</td>\n",
       "      <td>84</td>\n",
       "      <td>75</td>\n",
       "      <td>63.0</td>\n",
       "      <td>79.0</td>\n",
       "    </tr>\n",
       "  </tbody>\n",
       "</table>\n",
       "<p>5 rows × 41 columns</p>\n",
       "</div>"
      ],
      "text/plain": [
       "   Potential  Skill Moves  Weight(kgs)  ShortPassing  LongPassing  Agility  \\\n",
       "0         89            4           69            91           88     80.0   \n",
       "1         88            3           82            86           84     76.0   \n",
       "2         88            3           83            83           77     75.0   \n",
       "3         91            4           70            94           93     79.0   \n",
       "4         84            4           69            82           78     83.0   \n",
       "\n",
       "   Stamina  Positioning  StandingTackle  GKKicking  ...  Curve  SprintSpeed  \\\n",
       "0       91         87.0              73         15  ...   87.0           73   \n",
       "1       88         85.0              85         15  ...   76.0           83   \n",
       "2       78         91.0              45         31  ...   86.0           69   \n",
       "3       89         88.0              65          5  ...   85.0           76   \n",
       "4       90         81.0              84         13  ...   88.0           76   \n",
       "\n",
       "   ShotPower  Aggression  Composure  GKHandling  Overall  FKAccuracy  Jumping  \\\n",
       "0         89          78       87.0          14       88          87     73.0   \n",
       "1         85          81       82.0           8       87          75     79.0   \n",
       "2         89          87       87.0          25       88          82     69.0   \n",
       "3         91          76       89.0          13       91          83     63.0   \n",
       "4         82          84       87.0          14       84          75     63.0   \n",
       "\n",
       "   Interceptions  \n",
       "0           66.0  \n",
       "1           86.0  \n",
       "2           41.0  \n",
       "3           66.0  \n",
       "4           79.0  \n",
       "\n",
       "[5 rows x 41 columns]"
      ]
     },
     "execution_count": 9,
     "metadata": {},
     "output_type": "execute_result"
    }
   ],
   "source": [
    "df_features_imp.head()"
   ]
  },
  {
   "cell_type": "code",
   "execution_count": 10,
   "id": "da0f0de5",
   "metadata": {},
   "outputs": [],
   "source": [
    "X = df_features_imp.loc[:, df_features_imp.columns != 'Overall']\n",
    "y = df_features_imp.loc[:, df_features_imp.columns == 'Overall']\n",
    "y = y.values.ravel()"
   ]
  },
  {
   "cell_type": "code",
   "execution_count": 11,
   "id": "882a02a2",
   "metadata": {},
   "outputs": [],
   "source": [
    "from sklearn.model_selection import train_test_split\n",
    "X_train, X_test, y_train, y_test = train_test_split(X,y, random_state=42, test_size=0.20)"
   ]
  },
  {
   "cell_type": "code",
   "execution_count": 12,
   "id": "90a66817",
   "metadata": {},
   "outputs": [
    {
     "name": "stdout",
     "output_type": "stream",
     "text": [
      "[64 65 76 ... 68 78 62]\n",
      "Index(['Potential', 'Skill Moves', 'Weight(kgs)', 'ShortPassing',\n",
      "       'LongPassing', 'Agility', 'Stamina', 'Positioning', 'StandingTackle',\n",
      "       'GKKicking', 'Best Overall Rating', 'DefensiveAwareness', 'Crossing',\n",
      "       'Volleys', 'BallControl', 'Reactions', 'Strength', 'Vision',\n",
      "       'SlidingTackle', 'GKPositioning', 'Weak Foot', 'Finishing', 'Dribbling',\n",
      "       'Acceleration', 'Balance', 'LongShots', 'Penalties', 'GKDiving',\n",
      "       'GKReflexes', 'Height(in cm)', 'HeadingAccuracy', 'Curve',\n",
      "       'SprintSpeed', 'ShotPower', 'Aggression', 'Composure', 'GKHandling',\n",
      "       'FKAccuracy', 'Jumping', 'Interceptions'],\n",
      "      dtype='object')\n",
      "40\n"
     ]
    }
   ],
   "source": [
    "print(y_train)\n",
    "print(X_train.columns)\n",
    "print(len(X_train.columns))"
   ]
  },
  {
   "cell_type": "markdown",
   "id": "0f07b4a3",
   "metadata": {},
   "source": [
    "----\n",
    "## Logistic Regression\n",
    "----"
   ]
  },
  {
   "cell_type": "code",
   "execution_count": 13,
   "id": "be2646b0",
   "metadata": {},
   "outputs": [
    {
     "name": "stderr",
     "output_type": "stream",
     "text": [
      "C:\\Users\\Hamza Khattak\\TechWorks\\Python\\lib\\site-packages\\sklearn\\linear_model\\_logistic.py:460: ConvergenceWarning: lbfgs failed to converge (status=1):\n",
      "STOP: TOTAL NO. of ITERATIONS REACHED LIMIT.\n",
      "\n",
      "Increase the number of iterations (max_iter) or scale the data as shown in:\n",
      "    https://scikit-learn.org/stable/modules/preprocessing.html\n",
      "Please also refer to the documentation for alternative solver options:\n",
      "    https://scikit-learn.org/stable/modules/linear_model.html#logistic-regression\n",
      "  n_iter_i = _check_optimize_result(\n"
     ]
    },
    {
     "data": {
      "text/html": [
       "<style>#sk-container-id-1 {color: black;}#sk-container-id-1 pre{padding: 0;}#sk-container-id-1 div.sk-toggleable {background-color: white;}#sk-container-id-1 label.sk-toggleable__label {cursor: pointer;display: block;width: 100%;margin-bottom: 0;padding: 0.3em;box-sizing: border-box;text-align: center;}#sk-container-id-1 label.sk-toggleable__label-arrow:before {content: \"▸\";float: left;margin-right: 0.25em;color: #696969;}#sk-container-id-1 label.sk-toggleable__label-arrow:hover:before {color: black;}#sk-container-id-1 div.sk-estimator:hover label.sk-toggleable__label-arrow:before {color: black;}#sk-container-id-1 div.sk-toggleable__content {max-height: 0;max-width: 0;overflow: hidden;text-align: left;background-color: #f0f8ff;}#sk-container-id-1 div.sk-toggleable__content pre {margin: 0.2em;color: black;border-radius: 0.25em;background-color: #f0f8ff;}#sk-container-id-1 input.sk-toggleable__control:checked~div.sk-toggleable__content {max-height: 200px;max-width: 100%;overflow: auto;}#sk-container-id-1 input.sk-toggleable__control:checked~label.sk-toggleable__label-arrow:before {content: \"▾\";}#sk-container-id-1 div.sk-estimator input.sk-toggleable__control:checked~label.sk-toggleable__label {background-color: #d4ebff;}#sk-container-id-1 div.sk-label input.sk-toggleable__control:checked~label.sk-toggleable__label {background-color: #d4ebff;}#sk-container-id-1 input.sk-hidden--visually {border: 0;clip: rect(1px 1px 1px 1px);clip: rect(1px, 1px, 1px, 1px);height: 1px;margin: -1px;overflow: hidden;padding: 0;position: absolute;width: 1px;}#sk-container-id-1 div.sk-estimator {font-family: monospace;background-color: #f0f8ff;border: 1px dotted black;border-radius: 0.25em;box-sizing: border-box;margin-bottom: 0.5em;}#sk-container-id-1 div.sk-estimator:hover {background-color: #d4ebff;}#sk-container-id-1 div.sk-parallel-item::after {content: \"\";width: 100%;border-bottom: 1px solid gray;flex-grow: 1;}#sk-container-id-1 div.sk-label:hover label.sk-toggleable__label {background-color: #d4ebff;}#sk-container-id-1 div.sk-serial::before {content: \"\";position: absolute;border-left: 1px solid gray;box-sizing: border-box;top: 0;bottom: 0;left: 50%;z-index: 0;}#sk-container-id-1 div.sk-serial {display: flex;flex-direction: column;align-items: center;background-color: white;padding-right: 0.2em;padding-left: 0.2em;position: relative;}#sk-container-id-1 div.sk-item {position: relative;z-index: 1;}#sk-container-id-1 div.sk-parallel {display: flex;align-items: stretch;justify-content: center;background-color: white;position: relative;}#sk-container-id-1 div.sk-item::before, #sk-container-id-1 div.sk-parallel-item::before {content: \"\";position: absolute;border-left: 1px solid gray;box-sizing: border-box;top: 0;bottom: 0;left: 50%;z-index: -1;}#sk-container-id-1 div.sk-parallel-item {display: flex;flex-direction: column;z-index: 1;position: relative;background-color: white;}#sk-container-id-1 div.sk-parallel-item:first-child::after {align-self: flex-end;width: 50%;}#sk-container-id-1 div.sk-parallel-item:last-child::after {align-self: flex-start;width: 50%;}#sk-container-id-1 div.sk-parallel-item:only-child::after {width: 0;}#sk-container-id-1 div.sk-dashed-wrapped {border: 1px dashed gray;margin: 0 0.4em 0.5em 0.4em;box-sizing: border-box;padding-bottom: 0.4em;background-color: white;}#sk-container-id-1 div.sk-label label {font-family: monospace;font-weight: bold;display: inline-block;line-height: 1.2em;}#sk-container-id-1 div.sk-label-container {text-align: center;}#sk-container-id-1 div.sk-container {/* jupyter's `normalize.less` sets `[hidden] { display: none; }` but bootstrap.min.css set `[hidden] { display: none !important; }` so we also need the `!important` here to be able to override the default hidden behavior on the sphinx rendered scikit-learn.org. See: https://github.com/scikit-learn/scikit-learn/issues/21755 */display: inline-block !important;position: relative;}#sk-container-id-1 div.sk-text-repr-fallback {display: none;}</style><div id=\"sk-container-id-1\" class=\"sk-top-container\"><div class=\"sk-text-repr-fallback\"><pre>LogisticRegression(max_iter=1000, multi_class=&#x27;multinomial&#x27;, random_state=42)</pre><b>In a Jupyter environment, please rerun this cell to show the HTML representation or trust the notebook. <br />On GitHub, the HTML representation is unable to render, please try loading this page with nbviewer.org.</b></div><div class=\"sk-container\" hidden><div class=\"sk-item\"><div class=\"sk-estimator sk-toggleable\"><input class=\"sk-toggleable__control sk-hidden--visually\" id=\"sk-estimator-id-1\" type=\"checkbox\" checked><label for=\"sk-estimator-id-1\" class=\"sk-toggleable__label sk-toggleable__label-arrow\">LogisticRegression</label><div class=\"sk-toggleable__content\"><pre>LogisticRegression(max_iter=1000, multi_class=&#x27;multinomial&#x27;, random_state=42)</pre></div></div></div></div></div>"
      ],
      "text/plain": [
       "LogisticRegression(max_iter=1000, multi_class='multinomial', random_state=42)"
      ]
     },
     "execution_count": 13,
     "metadata": {},
     "output_type": "execute_result"
    }
   ],
   "source": [
    "from sklearn.linear_model import LogisticRegression\n",
    "from sklearn.preprocessing import StandardScaler\n",
    "\n",
    "log_reg = LogisticRegression(solver='lbfgs', max_iter=1000, random_state=42, multi_class='multinomial')\n",
    "log_reg.fit(X_train, y_train)"
   ]
  },
  {
   "cell_type": "code",
   "execution_count": 14,
   "id": "006a96ce",
   "metadata": {},
   "outputs": [
    {
     "data": {
      "text/plain": [
       "0.2152777777777778"
      ]
     },
     "execution_count": 14,
     "metadata": {},
     "output_type": "execute_result"
    }
   ],
   "source": [
    "# Check the Accuracy\n",
    "log_reg.score(X_test, y_test)"
   ]
  },
  {
   "cell_type": "markdown",
   "id": "093910ae",
   "metadata": {},
   "source": [
    "----\n",
    "## Ridge Regression\n",
    "----"
   ]
  },
  {
   "cell_type": "code",
   "execution_count": 17,
   "id": "617bbfc6",
   "metadata": {},
   "outputs": [
    {
     "data": {
      "text/html": [
       "<style>#sk-container-id-2 {color: black;}#sk-container-id-2 pre{padding: 0;}#sk-container-id-2 div.sk-toggleable {background-color: white;}#sk-container-id-2 label.sk-toggleable__label {cursor: pointer;display: block;width: 100%;margin-bottom: 0;padding: 0.3em;box-sizing: border-box;text-align: center;}#sk-container-id-2 label.sk-toggleable__label-arrow:before {content: \"▸\";float: left;margin-right: 0.25em;color: #696969;}#sk-container-id-2 label.sk-toggleable__label-arrow:hover:before {color: black;}#sk-container-id-2 div.sk-estimator:hover label.sk-toggleable__label-arrow:before {color: black;}#sk-container-id-2 div.sk-toggleable__content {max-height: 0;max-width: 0;overflow: hidden;text-align: left;background-color: #f0f8ff;}#sk-container-id-2 div.sk-toggleable__content pre {margin: 0.2em;color: black;border-radius: 0.25em;background-color: #f0f8ff;}#sk-container-id-2 input.sk-toggleable__control:checked~div.sk-toggleable__content {max-height: 200px;max-width: 100%;overflow: auto;}#sk-container-id-2 input.sk-toggleable__control:checked~label.sk-toggleable__label-arrow:before {content: \"▾\";}#sk-container-id-2 div.sk-estimator input.sk-toggleable__control:checked~label.sk-toggleable__label {background-color: #d4ebff;}#sk-container-id-2 div.sk-label input.sk-toggleable__control:checked~label.sk-toggleable__label {background-color: #d4ebff;}#sk-container-id-2 input.sk-hidden--visually {border: 0;clip: rect(1px 1px 1px 1px);clip: rect(1px, 1px, 1px, 1px);height: 1px;margin: -1px;overflow: hidden;padding: 0;position: absolute;width: 1px;}#sk-container-id-2 div.sk-estimator {font-family: monospace;background-color: #f0f8ff;border: 1px dotted black;border-radius: 0.25em;box-sizing: border-box;margin-bottom: 0.5em;}#sk-container-id-2 div.sk-estimator:hover {background-color: #d4ebff;}#sk-container-id-2 div.sk-parallel-item::after {content: \"\";width: 100%;border-bottom: 1px solid gray;flex-grow: 1;}#sk-container-id-2 div.sk-label:hover label.sk-toggleable__label {background-color: #d4ebff;}#sk-container-id-2 div.sk-serial::before {content: \"\";position: absolute;border-left: 1px solid gray;box-sizing: border-box;top: 0;bottom: 0;left: 50%;z-index: 0;}#sk-container-id-2 div.sk-serial {display: flex;flex-direction: column;align-items: center;background-color: white;padding-right: 0.2em;padding-left: 0.2em;position: relative;}#sk-container-id-2 div.sk-item {position: relative;z-index: 1;}#sk-container-id-2 div.sk-parallel {display: flex;align-items: stretch;justify-content: center;background-color: white;position: relative;}#sk-container-id-2 div.sk-item::before, #sk-container-id-2 div.sk-parallel-item::before {content: \"\";position: absolute;border-left: 1px solid gray;box-sizing: border-box;top: 0;bottom: 0;left: 50%;z-index: -1;}#sk-container-id-2 div.sk-parallel-item {display: flex;flex-direction: column;z-index: 1;position: relative;background-color: white;}#sk-container-id-2 div.sk-parallel-item:first-child::after {align-self: flex-end;width: 50%;}#sk-container-id-2 div.sk-parallel-item:last-child::after {align-self: flex-start;width: 50%;}#sk-container-id-2 div.sk-parallel-item:only-child::after {width: 0;}#sk-container-id-2 div.sk-dashed-wrapped {border: 1px dashed gray;margin: 0 0.4em 0.5em 0.4em;box-sizing: border-box;padding-bottom: 0.4em;background-color: white;}#sk-container-id-2 div.sk-label label {font-family: monospace;font-weight: bold;display: inline-block;line-height: 1.2em;}#sk-container-id-2 div.sk-label-container {text-align: center;}#sk-container-id-2 div.sk-container {/* jupyter's `normalize.less` sets `[hidden] { display: none; }` but bootstrap.min.css set `[hidden] { display: none !important; }` so we also need the `!important` here to be able to override the default hidden behavior on the sphinx rendered scikit-learn.org. See: https://github.com/scikit-learn/scikit-learn/issues/21755 */display: inline-block !important;position: relative;}#sk-container-id-2 div.sk-text-repr-fallback {display: none;}</style><div id=\"sk-container-id-2\" class=\"sk-top-container\"><div class=\"sk-text-repr-fallback\"><pre>Ridge(alpha=1, random_state=42, solver=&#x27;cholesky&#x27;)</pre><b>In a Jupyter environment, please rerun this cell to show the HTML representation or trust the notebook. <br />On GitHub, the HTML representation is unable to render, please try loading this page with nbviewer.org.</b></div><div class=\"sk-container\" hidden><div class=\"sk-item\"><div class=\"sk-estimator sk-toggleable\"><input class=\"sk-toggleable__control sk-hidden--visually\" id=\"sk-estimator-id-2\" type=\"checkbox\" checked><label for=\"sk-estimator-id-2\" class=\"sk-toggleable__label sk-toggleable__label-arrow\">Ridge</label><div class=\"sk-toggleable__content\"><pre>Ridge(alpha=1, random_state=42, solver=&#x27;cholesky&#x27;)</pre></div></div></div></div></div>"
      ],
      "text/plain": [
       "Ridge(alpha=1, random_state=42, solver='cholesky')"
      ]
     },
     "execution_count": 17,
     "metadata": {},
     "output_type": "execute_result"
    }
   ],
   "source": [
    "from sklearn.linear_model import Ridge\n",
    "ridge_reg = Ridge(alpha=1, solver=\"cholesky\", random_state=42)\n",
    "ridge_reg.fit(X_train, y_train)"
   ]
  },
  {
   "cell_type": "code",
   "execution_count": 18,
   "id": "9464090c",
   "metadata": {
    "scrolled": true
   },
   "outputs": [
    {
     "name": "stdout",
     "output_type": "stream",
     "text": [
      "R-squared score for Ridge Regression: 0.9809386494931144\n"
     ]
    }
   ],
   "source": [
    "from sklearn.metrics import r2_score\n",
    "from sklearn.metrics import mean_squared_error\n",
    "\n",
    "y_pred = ridge_reg.predict(X_test)\n",
    "\n",
    "# Calculate the R-squared score\n",
    "r2 = r2_score(y_test, y_pred)\n",
    "print(\"R-squared score for Ridge Regression:\", r2)"
   ]
  },
  {
   "cell_type": "code",
   "execution_count": 19,
   "id": "b4a24158",
   "metadata": {},
   "outputs": [
    {
     "data": {
      "image/png": "[encoded data removed]",
      "text/plain": [
       "<Figure size 576x432 with 1 Axes>"
      ]
     },
     "metadata": {
      "needs_background": "light"
     },
     "output_type": "display_data"
    }
   ],
   "source": [
    "import matplotlib.pyplot as plt\n",
    "\n",
    "y_pred_ridge = ridge_reg.predict(X_train)\n",
    "\n",
    "plt.figure(figsize=(8, 6))\n",
    "plt.scatter(y_train, y_pred_ridge, alpha=0.5)\n",
    "plt.xlabel(\"Actual Values\")\n",
    "plt.ylabel(\"Predicted Values (using Ridge)\")\n",
    "plt.title(\"Actual vs. Predicted Values (Training Data) - Ridge Regression\")\n",
    "plt.grid(True)\n",
    "plt.show()"
   ]
  },
  {
   "cell_type": "markdown",
   "id": "8ad6e404",
   "metadata": {},
   "source": [
    "----\n",
    "## Bayesian Ridge Regression\n",
    "----"
   ]
  },
  {
   "cell_type": "code",
   "execution_count": 20,
   "id": "3929873d",
   "metadata": {},
   "outputs": [
    {
     "data": {
      "text/html": [
       "<style>#sk-container-id-3 {color: black;}#sk-container-id-3 pre{padding: 0;}#sk-container-id-3 div.sk-toggleable {background-color: white;}#sk-container-id-3 label.sk-toggleable__label {cursor: pointer;display: block;width: 100%;margin-bottom: 0;padding: 0.3em;box-sizing: border-box;text-align: center;}#sk-container-id-3 label.sk-toggleable__label-arrow:before {content: \"▸\";float: left;margin-right: 0.25em;color: #696969;}#sk-container-id-3 label.sk-toggleable__label-arrow:hover:before {color: black;}#sk-container-id-3 div.sk-estimator:hover label.sk-toggleable__label-arrow:before {color: black;}#sk-container-id-3 div.sk-toggleable__content {max-height: 0;max-width: 0;overflow: hidden;text-align: left;background-color: #f0f8ff;}#sk-container-id-3 div.sk-toggleable__content pre {margin: 0.2em;color: black;border-radius: 0.25em;background-color: #f0f8ff;}#sk-container-id-3 input.sk-toggleable__control:checked~div.sk-toggleable__content {max-height: 200px;max-width: 100%;overflow: auto;}#sk-container-id-3 input.sk-toggleable__control:checked~label.sk-toggleable__label-arrow:before {content: \"▾\";}#sk-container-id-3 div.sk-estimator input.sk-toggleable__control:checked~label.sk-toggleable__label {background-color: #d4ebff;}#sk-container-id-3 div.sk-label input.sk-toggleable__control:checked~label.sk-toggleable__label {background-color: #d4ebff;}#sk-container-id-3 input.sk-hidden--visually {border: 0;clip: rect(1px 1px 1px 1px);clip: rect(1px, 1px, 1px, 1px);height: 1px;margin: -1px;overflow: hidden;padding: 0;position: absolute;width: 1px;}#sk-container-id-3 div.sk-estimator {font-family: monospace;background-color: #f0f8ff;border: 1px dotted black;border-radius: 0.25em;box-sizing: border-box;margin-bottom: 0.5em;}#sk-container-id-3 div.sk-estimator:hover {background-color: #d4ebff;}#sk-container-id-3 div.sk-parallel-item::after {content: \"\";width: 100%;border-bottom: 1px solid gray;flex-grow: 1;}#sk-container-id-3 div.sk-label:hover label.sk-toggleable__label {background-color: #d4ebff;}#sk-container-id-3 div.sk-serial::before {content: \"\";position: absolute;border-left: 1px solid gray;box-sizing: border-box;top: 0;bottom: 0;left: 50%;z-index: 0;}#sk-container-id-3 div.sk-serial {display: flex;flex-direction: column;align-items: center;background-color: white;padding-right: 0.2em;padding-left: 0.2em;position: relative;}#sk-container-id-3 div.sk-item {position: relative;z-index: 1;}#sk-container-id-3 div.sk-parallel {display: flex;align-items: stretch;justify-content: center;background-color: white;position: relative;}#sk-container-id-3 div.sk-item::before, #sk-container-id-3 div.sk-parallel-item::before {content: \"\";position: absolute;border-left: 1px solid gray;box-sizing: border-box;top: 0;bottom: 0;left: 50%;z-index: -1;}#sk-container-id-3 div.sk-parallel-item {display: flex;flex-direction: column;z-index: 1;position: relative;background-color: white;}#sk-container-id-3 div.sk-parallel-item:first-child::after {align-self: flex-end;width: 50%;}#sk-container-id-3 div.sk-parallel-item:last-child::after {align-self: flex-start;width: 50%;}#sk-container-id-3 div.sk-parallel-item:only-child::after {width: 0;}#sk-container-id-3 div.sk-dashed-wrapped {border: 1px dashed gray;margin: 0 0.4em 0.5em 0.4em;box-sizing: border-box;padding-bottom: 0.4em;background-color: white;}#sk-container-id-3 div.sk-label label {font-family: monospace;font-weight: bold;display: inline-block;line-height: 1.2em;}#sk-container-id-3 div.sk-label-container {text-align: center;}#sk-container-id-3 div.sk-container {/* jupyter's `normalize.less` sets `[hidden] { display: none; }` but bootstrap.min.css set `[hidden] { display: none !important; }` so we also need the `!important` here to be able to override the default hidden behavior on the sphinx rendered scikit-learn.org. See: https://github.com/scikit-learn/scikit-learn/issues/21755 */display: inline-block !important;position: relative;}#sk-container-id-3 div.sk-text-repr-fallback {display: none;}</style><div id=\"sk-container-id-3\" class=\"sk-top-container\"><div class=\"sk-text-repr-fallback\"><pre>BayesianRidge()</pre><b>In a Jupyter environment, please rerun this cell to show the HTML representation or trust the notebook. <br />On GitHub, the HTML representation is unable to render, please try loading this page with nbviewer.org.</b></div><div class=\"sk-container\" hidden><div class=\"sk-item\"><div class=\"sk-estimator sk-toggleable\"><input class=\"sk-toggleable__control sk-hidden--visually\" id=\"sk-estimator-id-3\" type=\"checkbox\" checked><label for=\"sk-estimator-id-3\" class=\"sk-toggleable__label sk-toggleable__label-arrow\">BayesianRidge</label><div class=\"sk-toggleable__content\"><pre>BayesianRidge()</pre></div></div></div></div></div>"
      ],
      "text/plain": [
       "BayesianRidge()"
      ]
     },
     "execution_count": 20,
     "metadata": {},
     "output_type": "execute_result"
    }
   ],
   "source": [
    "from sklearn.linear_model import BayesianRidge\n",
    "\n",
    "# Create and fit a Bayesian Ridge Regression model\n",
    "bayesian_ridge_reg = BayesianRidge()\n",
    "bayesian_ridge_reg.fit(X_train, y_train)"
   ]
  },
  {
   "cell_type": "code",
   "execution_count": 21,
   "id": "1284a9f7",
   "metadata": {},
   "outputs": [
    {
     "name": "stdout",
     "output_type": "stream",
     "text": [
      "R-squared score: 0.9809395399396642\n"
     ]
    }
   ],
   "source": [
    "from sklearn.metrics import r2_score\n",
    "y_pred = bayesian_ridge_reg.predict(X_test)\n",
    "\n",
    "# Calculate the R-squared score\n",
    "r2 = r2_score(y_test, y_pred)\n",
    "\n",
    "print(\"R-squared score:\", r2)"
   ]
  },
  {
   "cell_type": "markdown",
   "id": "7e2c37a3",
   "metadata": {},
   "source": [
    "----\n",
    "## Elastic Net For Ridge and Lasso\n",
    "----"
   ]
  },
  {
   "cell_type": "code",
   "execution_count": 22,
   "id": "4e562503",
   "metadata": {},
   "outputs": [
    {
     "data": {
      "text/html": [
       "<style>#sk-container-id-4 {color: black;}#sk-container-id-4 pre{padding: 0;}#sk-container-id-4 div.sk-toggleable {background-color: white;}#sk-container-id-4 label.sk-toggleable__label {cursor: pointer;display: block;width: 100%;margin-bottom: 0;padding: 0.3em;box-sizing: border-box;text-align: center;}#sk-container-id-4 label.sk-toggleable__label-arrow:before {content: \"▸\";float: left;margin-right: 0.25em;color: #696969;}#sk-container-id-4 label.sk-toggleable__label-arrow:hover:before {color: black;}#sk-container-id-4 div.sk-estimator:hover label.sk-toggleable__label-arrow:before {color: black;}#sk-container-id-4 div.sk-toggleable__content {max-height: 0;max-width: 0;overflow: hidden;text-align: left;background-color: #f0f8ff;}#sk-container-id-4 div.sk-toggleable__content pre {margin: 0.2em;color: black;border-radius: 0.25em;background-color: #f0f8ff;}#sk-container-id-4 input.sk-toggleable__control:checked~div.sk-toggleable__content {max-height: 200px;max-width: 100%;overflow: auto;}#sk-container-id-4 input.sk-toggleable__control:checked~label.sk-toggleable__label-arrow:before {content: \"▾\";}#sk-container-id-4 div.sk-estimator input.sk-toggleable__control:checked~label.sk-toggleable__label {background-color: #d4ebff;}#sk-container-id-4 div.sk-label input.sk-toggleable__control:checked~label.sk-toggleable__label {background-color: #d4ebff;}#sk-container-id-4 input.sk-hidden--visually {border: 0;clip: rect(1px 1px 1px 1px);clip: rect(1px, 1px, 1px, 1px);height: 1px;margin: -1px;overflow: hidden;padding: 0;position: absolute;width: 1px;}#sk-container-id-4 div.sk-estimator {font-family: monospace;background-color: #f0f8ff;border: 1px dotted black;border-radius: 0.25em;box-sizing: border-box;margin-bottom: 0.5em;}#sk-container-id-4 div.sk-estimator:hover {background-color: #d4ebff;}#sk-container-id-4 div.sk-parallel-item::after {content: \"\";width: 100%;border-bottom: 1px solid gray;flex-grow: 1;}#sk-container-id-4 div.sk-label:hover label.sk-toggleable__label {background-color: #d4ebff;}#sk-container-id-4 div.sk-serial::before {content: \"\";position: absolute;border-left: 1px solid gray;box-sizing: border-box;top: 0;bottom: 0;left: 50%;z-index: 0;}#sk-container-id-4 div.sk-serial {display: flex;flex-direction: column;align-items: center;background-color: white;padding-right: 0.2em;padding-left: 0.2em;position: relative;}#sk-container-id-4 div.sk-item {position: relative;z-index: 1;}#sk-container-id-4 div.sk-parallel {display: flex;align-items: stretch;justify-content: center;background-color: white;position: relative;}#sk-container-id-4 div.sk-item::before, #sk-container-id-4 div.sk-parallel-item::before {content: \"\";position: absolute;border-left: 1px solid gray;box-sizing: border-box;top: 0;bottom: 0;left: 50%;z-index: -1;}#sk-container-id-4 div.sk-parallel-item {display: flex;flex-direction: column;z-index: 1;position: relative;background-color: white;}#sk-container-id-4 div.sk-parallel-item:first-child::after {align-self: flex-end;width: 50%;}#sk-container-id-4 div.sk-parallel-item:last-child::after {align-self: flex-start;width: 50%;}#sk-container-id-4 div.sk-parallel-item:only-child::after {width: 0;}#sk-container-id-4 div.sk-dashed-wrapped {border: 1px dashed gray;margin: 0 0.4em 0.5em 0.4em;box-sizing: border-box;padding-bottom: 0.4em;background-color: white;}#sk-container-id-4 div.sk-label label {font-family: monospace;font-weight: bold;display: inline-block;line-height: 1.2em;}#sk-container-id-4 div.sk-label-container {text-align: center;}#sk-container-id-4 div.sk-container {/* jupyter's `normalize.less` sets `[hidden] { display: none; }` but bootstrap.min.css set `[hidden] { display: none !important; }` so we also need the `!important` here to be able to override the default hidden behavior on the sphinx rendered scikit-learn.org. See: https://github.com/scikit-learn/scikit-learn/issues/21755 */display: inline-block !important;position: relative;}#sk-container-id-4 div.sk-text-repr-fallback {display: none;}</style><div id=\"sk-container-id-4\" class=\"sk-top-container\"><div class=\"sk-text-repr-fallback\"><pre>ElasticNet(alpha=0.1, random_state=42)</pre><b>In a Jupyter environment, please rerun this cell to show the HTML representation or trust the notebook. <br />On GitHub, the HTML representation is unable to render, please try loading this page with nbviewer.org.</b></div><div class=\"sk-container\" hidden><div class=\"sk-item\"><div class=\"sk-estimator sk-toggleable\"><input class=\"sk-toggleable__control sk-hidden--visually\" id=\"sk-estimator-id-4\" type=\"checkbox\" checked><label for=\"sk-estimator-id-4\" class=\"sk-toggleable__label sk-toggleable__label-arrow\">ElasticNet</label><div class=\"sk-toggleable__content\"><pre>ElasticNet(alpha=0.1, random_state=42)</pre></div></div></div></div></div>"
      ],
      "text/plain": [
       "ElasticNet(alpha=0.1, random_state=42)"
      ]
     },
     "execution_count": 22,
     "metadata": {},
     "output_type": "execute_result"
    }
   ],
   "source": [
    "# An ElasticNet (for lasso and ridge)\n",
    "from sklearn.linear_model import ElasticNet\n",
    "elastic_net = ElasticNet(alpha=0.1, l1_ratio=0.5, random_state=42)\n",
    "elastic_net.fit(X_train, y_train)"
   ]
  },
  {
   "cell_type": "code",
   "execution_count": 23,
   "id": "38c0b465",
   "metadata": {},
   "outputs": [
    {
     "name": "stdout",
     "output_type": "stream",
     "text": [
      "R-squared score - Elastic Net For Ridge and Lasso: 0.9808380150615371\n"
     ]
    }
   ],
   "source": [
    "y_pred = elastic_net.predict(X_test)\n",
    "\n",
    "# Calculate the R-squared score\n",
    "r2 = r2_score(y_test, y_pred)\n",
    "print(\"R-squared score - Elastic Net For Ridge and Lasso:\", r2)"
   ]
  },
  {
   "cell_type": "code",
   "execution_count": 24,
   "id": "dd255085",
   "metadata": {},
   "outputs": [
    {
     "data": {
      "image/png": "[encoded data removed]",
      "text/plain": [
       "<Figure size 576x432 with 1 Axes>"
      ]
     },
     "metadata": {
      "needs_background": "light"
     },
     "output_type": "display_data"
    }
   ],
   "source": [
    "import matplotlib.pyplot as plt\n",
    "\n",
    "y_pred = elastic_net.predict(X_train)  \n",
    "\n",
    "plt.figure(figsize=(8, 6))\n",
    "plt.scatter(y_train, y_pred, alpha=0.5)\n",
    "plt.xlabel(\"Actual Values\")\n",
    "plt.ylabel(\"Predicted Values\")\n",
    "plt.title(\"Actual vs. Predicted Values (Training Data) - Elastic Net\")\n",
    "plt.grid(True)\n",
    "plt.show()"
   ]
  },
  {
   "cell_type": "code",
   "execution_count": 39,
   "id": "a271ae28",
   "metadata": {},
   "outputs": [
    {
     "name": "stdout",
     "output_type": "stream",
     "text": [
      "[-3.13608030e-02  0.00000000e+00  4.42040074e-03 -2.02899949e-03\n",
      " -1.12753217e-02  0.00000000e+00  1.72224822e-03  5.19929153e-03\n",
      " -3.47251215e-03  9.78381229e-03  9.60667636e-01  3.97292822e-03\n",
      "  3.20920434e-02  0.00000000e+00  2.97412729e-03  2.59104887e-02\n",
      "  1.98690910e-03 -1.10164436e-02 -9.18431114e-04  9.72623500e-03\n",
      "  0.00000000e+00 -8.20491466e-03  6.33714241e-04 -5.94692136e-03\n",
      " -6.83018069e-03 -3.16087317e-04  3.48004299e-03  1.24997147e-02\n",
      "  8.62123907e-03 -1.48468972e-02  8.67376009e-03  3.16805172e-03\n",
      " -0.00000000e+00  0.00000000e+00  5.13394556e-03  1.18313801e-02\n",
      "  7.94280527e-03  1.11188436e-03  1.78898049e-03  1.33109346e-03]\n",
      "2.1451486605062655\n"
     ]
    }
   ],
   "source": [
    "intercept = elastic_net.intercept_\n",
    "coefficients = elastic_net.coef_\n",
    "print(coefficients)\n",
    "print(intercept)"
   ]
  },
  {
   "cell_type": "code",
   "execution_count": 26,
   "id": "c35ed962",
   "metadata": {},
   "outputs": [],
   "source": [
    "feature_names = X_train.columns.tolist()\n",
    "feature_coeff_pairs = []\n",
    "feature_coeff_pairs = list(zip(feature_names, coefficients))"
   ]
  },
  {
   "cell_type": "code",
   "execution_count": 27,
   "id": "decdc0c6",
   "metadata": {
    "scrolled": true
   },
   "outputs": [],
   "source": [
    "#defining my function keep absolute values only (getting idea of magnitude)\n",
    "def abs_coefficient(pair):\n",
    "    return abs(pair[1])"
   ]
  },
  {
   "cell_type": "code",
   "execution_count": 28,
   "id": "7a9dea7e",
   "metadata": {},
   "outputs": [
    {
     "name": "stdout",
     "output_type": "stream",
     "text": [
      "Best Overall Rating: 0.9606676360771929\n",
      "Crossing: 0.03209204342650068\n",
      "Potential: -0.031360803039461704\n",
      "Reactions: 0.02591048873533787\n",
      "Height(in cm): -0.014846897199587998\n",
      "GKDiving: 0.012499714745800644\n",
      "Composure: 0.01183138011626488\n",
      "LongPassing: -0.011275321684458904\n",
      "Vision: -0.01101644364385573\n",
      "GKKicking: 0.009783812287722314\n"
     ]
    }
   ],
   "source": [
    "feature_coeff_pairs.sort(key=abs_coefficient, reverse=True)\n",
    "\n",
    "top_features = feature_coeff_pairs[:10]\n",
    "\n",
    "for feature, coefficient in top_features:\n",
    "    print(f\"{feature}: {coefficient}\")"
   ]
  },
  {
   "cell_type": "markdown",
   "id": "26a9ead4",
   "metadata": {},
   "source": [
    "____\n",
    "## Check for multi-collinearity\n",
    "____"
   ]
  },
  {
   "cell_type": "code",
   "execution_count": 29,
   "id": "976b06f5",
   "metadata": {
    "scrolled": true
   },
   "outputs": [
    {
     "data": {
      "image/png": "[encoded data removed]",
      "text/plain": [
       "<Figure size 720x576 with 2 Axes>"
      ]
     },
     "metadata": {
      "needs_background": "light"
     },
     "output_type": "display_data"
    }
   ],
   "source": [
    "import seaborn as sns\n",
    "import matplotlib.pyplot as plt\n",
    "\n",
    "# Remove highly correlated columns using my threshold 0.9\n",
    "# Credits to https://www.projectpro.io/recipes/drop-out-highly-correlated-features-in-python\n",
    "\n",
    "def remove_highly_correlated_features(data_frame, threshold=0.9):\n",
    "    corr_matrix = data_frame.corr().abs()\n",
    "    upper_tri = corr_matrix.where(np.triu(np.ones(corr_matrix.shape), k=1).astype(bool))\n",
    "    to_drop = [column for column in upper_tri.columns if any(upper_tri[column] > threshold)]\n",
    "    data_frame_filtered = data_frame.drop(columns=to_drop)\n",
    "    return data_frame_filtered\n",
    "\n",
    "# Remove highly correlated columns using 0.7 (replace 0.9)\n",
    "threshold = 0.7\n",
    "X_train_filtered = remove_highly_correlated_features(X_train, threshold)\n",
    "\n",
    "# Correlation matrix for the filtered data\n",
    "correlation_matrix_filtered = X_train_filtered.corr()\n",
    "\n",
    "# Creating heatmap\n",
    "plt.figure(figsize=(10, 8))\n",
    "sns.set(font_scale=1.0)\n",
    "sns.heatmap(correlation_matrix_filtered, annot=True, cmap=\"coolwarm\", fmt=\".2f\", linewidths=0.5)\n",
    "plt.title(\"Correlation Matrix (Filtered)\")\n",
    "plt.show()\n"
   ]
  },
  {
   "cell_type": "code",
   "execution_count": 30,
   "id": "4d43cd8b",
   "metadata": {},
   "outputs": [
    {
     "name": "stdout",
     "output_type": "stream",
     "text": [
      "R-squared score: 0.9770327401332687\n"
     ]
    }
   ],
   "source": [
    "from sklearn.model_selection import train_test_split\n",
    "from sklearn.preprocessing import StandardScaler\n",
    "from sklearn.linear_model import Ridge\n",
    "from sklearn.metrics import r2_score\n",
    "\n",
    "\n",
    "X_train, X_test, y_train, y_test = train_test_split(X, y, random_state=42, test_size=0.20)\n",
    "\n",
    "X_train_filtered = remove_highly_correlated_features(X_train, threshold=0.7)\n",
    "X_test_filtered = X_test[X_train_filtered.columns]\n",
    "\n",
    "# Create and fit the StandardScaler to normalize the data\n",
    "scaler = StandardScaler()\n",
    "X_train_scaled = scaler.fit_transform(X_train_filtered)\n",
    "X_test_scaled = scaler.transform(X_test_filtered)\n",
    "\n",
    "ridge_reg = Ridge(alpha=1, solver=\"cholesky\", random_state=42)\n",
    "ridge_reg.fit(X_train_scaled, y_train)\n",
    "\n",
    "\n",
    "y_pred = ridge_reg.predict(X_test_scaled)\n",
    "r2 = r2_score(y_test, y_pred)\n",
    "print(\"R-squared score:\", r2)"
   ]
  },
  {
   "cell_type": "code",
   "execution_count": 31,
   "id": "45b4f6d6",
   "metadata": {},
   "outputs": [
    {
     "data": {
      "text/plain": [
       "14398"
      ]
     },
     "execution_count": 31,
     "metadata": {},
     "output_type": "execute_result"
    }
   ],
   "source": [
    "predictions = elastic_net.predict(X)\n",
    "len(predictions)"
   ]
  },
  {
   "cell_type": "code",
   "execution_count": 32,
   "id": "4a32519b",
   "metadata": {},
   "outputs": [
    {
     "data": {
      "text/html": [
       "<div>\n",
       "<style scoped>\n",
       "    .dataframe tbody tr th:only-of-type {\n",
       "        vertical-align: middle;\n",
       "    }\n",
       "\n",
       "    .dataframe tbody tr th {\n",
       "        vertical-align: top;\n",
       "    }\n",
       "\n",
       "    .dataframe thead th {\n",
       "        text-align: right;\n",
       "    }\n",
       "</style>\n",
       "<table border=\"1\" class=\"dataframe\">\n",
       "  <thead>\n",
       "    <tr style=\"text-align: right;\">\n",
       "      <th></th>\n",
       "      <th>ID</th>\n",
       "      <th>Name</th>\n",
       "      <th>Age</th>\n",
       "      <th>Photo</th>\n",
       "      <th>Nationality</th>\n",
       "      <th>Flag</th>\n",
       "      <th>Overall</th>\n",
       "      <th>Potential</th>\n",
       "      <th>Club</th>\n",
       "      <th>Club Logo</th>\n",
       "      <th>...</th>\n",
       "      <th>GKDiving</th>\n",
       "      <th>GKHandling</th>\n",
       "      <th>GKKicking</th>\n",
       "      <th>GKPositioning</th>\n",
       "      <th>GKReflexes</th>\n",
       "      <th>Best Position</th>\n",
       "      <th>Best Overall Rating</th>\n",
       "      <th>Release Clause</th>\n",
       "      <th>DefensiveAwareness</th>\n",
       "      <th>Predicted Score</th>\n",
       "    </tr>\n",
       "  </thead>\n",
       "  <tbody>\n",
       "    <tr>\n",
       "      <th>0</th>\n",
       "      <td>212198</td>\n",
       "      <td>Bruno Fernandes</td>\n",
       "      <td>26</td>\n",
       "      <td>https://cdn.sofifa.net/players/212/198/22_60.png</td>\n",
       "      <td>Portugal</td>\n",
       "      <td>https://cdn.sofifa.net/flags/pt.png</td>\n",
       "      <td>88</td>\n",
       "      <td>89</td>\n",
       "      <td>Manchester United</td>\n",
       "      <td>https://cdn.sofifa.net/teams/11/30.png</td>\n",
       "      <td>...</td>\n",
       "      <td>12</td>\n",
       "      <td>14</td>\n",
       "      <td>15</td>\n",
       "      <td>8</td>\n",
       "      <td>14</td>\n",
       "      <td>CAM</td>\n",
       "      <td>88</td>\n",
       "      <td>206900</td>\n",
       "      <td>72.0</td>\n",
       "      <td>87.346279</td>\n",
       "    </tr>\n",
       "    <tr>\n",
       "      <th>1</th>\n",
       "      <td>209658</td>\n",
       "      <td>L. Goretzka</td>\n",
       "      <td>26</td>\n",
       "      <td>https://cdn.sofifa.net/players/209/658/22_60.png</td>\n",
       "      <td>Germany</td>\n",
       "      <td>https://cdn.sofifa.net/flags/de.png</td>\n",
       "      <td>87</td>\n",
       "      <td>88</td>\n",
       "      <td>FC Bayern München</td>\n",
       "      <td>https://cdn.sofifa.net/teams/21/30.png</td>\n",
       "      <td>...</td>\n",
       "      <td>13</td>\n",
       "      <td>8</td>\n",
       "      <td>15</td>\n",
       "      <td>11</td>\n",
       "      <td>9</td>\n",
       "      <td>CM</td>\n",
       "      <td>87</td>\n",
       "      <td>160400</td>\n",
       "      <td>74.0</td>\n",
       "      <td>85.997678</td>\n",
       "    </tr>\n",
       "    <tr>\n",
       "      <th>2</th>\n",
       "      <td>176580</td>\n",
       "      <td>L. Suárez</td>\n",
       "      <td>34</td>\n",
       "      <td>https://cdn.sofifa.net/players/176/580/22_60.png</td>\n",
       "      <td>Uruguay</td>\n",
       "      <td>https://cdn.sofifa.net/flags/uy.png</td>\n",
       "      <td>88</td>\n",
       "      <td>88</td>\n",
       "      <td>Atlético de Madrid</td>\n",
       "      <td>https://cdn.sofifa.net/teams/240/30.png</td>\n",
       "      <td>...</td>\n",
       "      <td>27</td>\n",
       "      <td>25</td>\n",
       "      <td>31</td>\n",
       "      <td>33</td>\n",
       "      <td>37</td>\n",
       "      <td>ST</td>\n",
       "      <td>88</td>\n",
       "      <td>91200</td>\n",
       "      <td>42.0</td>\n",
       "      <td>88.377263</td>\n",
       "    </tr>\n",
       "    <tr>\n",
       "      <th>3</th>\n",
       "      <td>192985</td>\n",
       "      <td>K. De Bruyne</td>\n",
       "      <td>30</td>\n",
       "      <td>https://cdn.sofifa.net/players/192/985/22_60.png</td>\n",
       "      <td>Belgium</td>\n",
       "      <td>https://cdn.sofifa.net/flags/be.png</td>\n",
       "      <td>91</td>\n",
       "      <td>91</td>\n",
       "      <td>Manchester City</td>\n",
       "      <td>https://cdn.sofifa.net/teams/10/30.png</td>\n",
       "      <td>...</td>\n",
       "      <td>15</td>\n",
       "      <td>13</td>\n",
       "      <td>5</td>\n",
       "      <td>10</td>\n",
       "      <td>13</td>\n",
       "      <td>CM</td>\n",
       "      <td>91</td>\n",
       "      <td>232200</td>\n",
       "      <td>68.0</td>\n",
       "      <td>90.147795</td>\n",
       "    </tr>\n",
       "    <tr>\n",
       "      <th>4</th>\n",
       "      <td>224334</td>\n",
       "      <td>M. Acuña</td>\n",
       "      <td>29</td>\n",
       "      <td>https://cdn.sofifa.net/players/224/334/22_60.png</td>\n",
       "      <td>Argentina</td>\n",
       "      <td>https://cdn.sofifa.net/flags/ar.png</td>\n",
       "      <td>84</td>\n",
       "      <td>84</td>\n",
       "      <td>Sevilla FC</td>\n",
       "      <td>https://cdn.sofifa.net/teams/481/30.png</td>\n",
       "      <td>...</td>\n",
       "      <td>8</td>\n",
       "      <td>14</td>\n",
       "      <td>13</td>\n",
       "      <td>13</td>\n",
       "      <td>14</td>\n",
       "      <td>LB</td>\n",
       "      <td>84</td>\n",
       "      <td>77700</td>\n",
       "      <td>80.0</td>\n",
       "      <td>83.708380</td>\n",
       "    </tr>\n",
       "  </tbody>\n",
       "</table>\n",
       "<p>5 rows × 63 columns</p>\n",
       "</div>"
      ],
      "text/plain": [
       "       ID             Name  Age  \\\n",
       "0  212198  Bruno Fernandes   26   \n",
       "1  209658      L. Goretzka   26   \n",
       "2  176580        L. Suárez   34   \n",
       "3  192985     K. De Bruyne   30   \n",
       "4  224334         M. Acuña   29   \n",
       "\n",
       "                                              Photo Nationality  \\\n",
       "0  https://cdn.sofifa.net/players/212/198/22_60.png    Portugal   \n",
       "1  https://cdn.sofifa.net/players/209/658/22_60.png     Germany   \n",
       "2  https://cdn.sofifa.net/players/176/580/22_60.png     Uruguay   \n",
       "3  https://cdn.sofifa.net/players/192/985/22_60.png     Belgium   \n",
       "4  https://cdn.sofifa.net/players/224/334/22_60.png   Argentina   \n",
       "\n",
       "                                  Flag  Overall  Potential  \\\n",
       "0  https://cdn.sofifa.net/flags/pt.png       88         89   \n",
       "1  https://cdn.sofifa.net/flags/de.png       87         88   \n",
       "2  https://cdn.sofifa.net/flags/uy.png       88         88   \n",
       "3  https://cdn.sofifa.net/flags/be.png       91         91   \n",
       "4  https://cdn.sofifa.net/flags/ar.png       84         84   \n",
       "\n",
       "                 Club                                Club Logo  ...  GKDiving  \\\n",
       "0   Manchester United   https://cdn.sofifa.net/teams/11/30.png  ...        12   \n",
       "1   FC Bayern München   https://cdn.sofifa.net/teams/21/30.png  ...        13   \n",
       "2  Atlético de Madrid  https://cdn.sofifa.net/teams/240/30.png  ...        27   \n",
       "3     Manchester City   https://cdn.sofifa.net/teams/10/30.png  ...        15   \n",
       "4          Sevilla FC  https://cdn.sofifa.net/teams/481/30.png  ...         8   \n",
       "\n",
       "   GKHandling GKKicking  GKPositioning  GKReflexes  Best Position  \\\n",
       "0          14        15              8          14            CAM   \n",
       "1           8        15             11           9             CM   \n",
       "2          25        31             33          37             ST   \n",
       "3          13         5             10          13             CM   \n",
       "4          14        13             13          14             LB   \n",
       "\n",
       "  Best Overall Rating Release Clause DefensiveAwareness Predicted Score  \n",
       "0                  88         206900               72.0       87.346279  \n",
       "1                  87         160400               74.0       85.997678  \n",
       "2                  88          91200               42.0       88.377263  \n",
       "3                  91         232200               68.0       90.147795  \n",
       "4                  84          77700               80.0       83.708380  \n",
       "\n",
       "[5 rows x 63 columns]"
      ]
     },
     "execution_count": 32,
     "metadata": {},
     "output_type": "execute_result"
    }
   ],
   "source": [
    "df_cleaned['Predicted Score'] = predictions\n",
    "df_cleaned.head()"
   ]
  },
  {
   "cell_type": "code",
   "execution_count": 33,
   "id": "11e09768",
   "metadata": {
    "scrolled": true
   },
   "outputs": [],
   "source": [
    "%%capture\n",
    "# Using position groups\n",
    "defensive_positions = ['LB', 'CDM', 'CB', 'RB', 'LWB', 'RWB']\n",
    "offensive_positions = ['CAM', 'ST', 'RW', 'LW', 'CF']\n",
    "midfield_positions = ['CM', 'RM', 'LM']\n",
    "gk_positions = ['GK']\n",
    "\n",
    "#Df to store the selected players\n",
    "selected_players = pd.DataFrame()\n",
    "\n",
    "#One player from each position\n",
    "for positions in [defensive_positions, offensive_positions, gk_positions]:\n",
    "    filtered_players = df_cleaned[df_cleaned['Best Position'].isin(positions)]\n",
    "    top_players = filtered_players.nlargest(1, 'Predicted Score')\n",
    "    selected_players = selected_players.append(top_players)\n",
    "\n",
    "\n",
    "#Select two players from midfield\n",
    "filtered_midfield_players = df_cleaned[df_cleaned['Best Position'].isin(midfield_positions)]\n",
    "top_midfield_players = filtered_midfield_players.nlargest(2, 'Predicted Score')\n",
    "selected_players = selected_players.append(top_midfield_players)"
   ]
  },
  {
   "cell_type": "code",
   "execution_count": 34,
   "id": "6df52dd4",
   "metadata": {},
   "outputs": [
    {
     "data": {
      "text/html": [
       "<div style=\"text-align: center; font-family: Arial; font-weight: bold; font-size: 24px;\">The current Top 5</div><hr><div style=\"display: flex;\"><div style=\"display: flex; flex-direction: column; margin-right: 20px;\"><img src=\"https://cdn.sofifa.net/players/215/914/22_60.png\" width=\"300\" height=\"200\"/><img src=\"https://cdn.sofifa.net/flags/fr.png\" width=\"50\" height=\"50\"/><img src=\"https://cdn.sofifa.net/teams/5/30.png\" width=\"50\" height=\"50\"/><b>N. Kanté</b>Best Position: CDM<br>Predicted Score: 88.67<br>Actual Score: 90</div><div style=\"display: flex; flex-direction: column; margin-right: 20px;\"><img src=\"https://cdn.sofifa.net/players/158/023/22_60.png\" width=\"300\" height=\"200\"/><img src=\"https://cdn.sofifa.net/flags/ar.png\" width=\"50\" height=\"50\"/><img src=\"https://cdn.sofifa.net/teams/73/30.png\" width=\"50\" height=\"50\"/><b>L. Messi</b>Best Position: RW<br>Predicted Score: 91.62<br>Actual Score: 93</div><div style=\"display: flex; flex-direction: column; margin-right: 20px;\"><img src=\"https://cdn.sofifa.net/players/200/389/22_60.png\" width=\"300\" height=\"200\"/><img src=\"https://cdn.sofifa.net/flags/si.png\" width=\"50\" height=\"50\"/><img src=\"https://cdn.sofifa.net/teams/240/30.png\" width=\"50\" height=\"50\"/><b>J. Oblak</b>Best Position: GK<br>Predicted Score: 91.03<br>Actual Score: 91</div><div style=\"display: flex; flex-direction: column; margin-right: 20px;\"><img src=\"https://cdn.sofifa.net/players/192/985/22_60.png\" width=\"300\" height=\"200\"/><img src=\"https://cdn.sofifa.net/flags/be.png\" width=\"50\" height=\"50\"/><img src=\"https://cdn.sofifa.net/teams/10/30.png\" width=\"50\" height=\"50\"/><b>K. De Bruyne</b>Best Position: CM<br>Predicted Score: 90.15<br>Actual Score: 91</div><div style=\"display: flex; flex-direction: column; margin-right: 20px;\"><img src=\"https://cdn.sofifa.net/players/200/104/22_60.png\" width=\"300\" height=\"200\"/><img src=\"https://cdn.sofifa.net/flags/kr.png\" width=\"50\" height=\"50\"/><img src=\"https://cdn.sofifa.net/teams/18/30.png\" width=\"50\" height=\"50\"/><b>H. Son</b>Best Position: LM<br>Predicted Score: 88.14<br>Actual Score: 89</div></div>"
      ],
      "text/plain": [
       "<IPython.core.display.HTML object>"
      ]
     },
     "metadata": {},
     "output_type": "display_data"
    }
   ],
   "source": [
    "from IPython.display import Image, display, HTML\n",
    "\n",
    "#Credits to https://bobbyhadz.com/blog/jupyter-notebook-display-list-as-table\n",
    "#Credits to https://stackoverflow.com/questions/47113934/how-to-display-table-with-text-and-images-in-jupyter-notebook\n",
    "\n",
    "html_output = '<div style=\"text-align: center; font-family: Arial; font-weight: bold; font-size: 24px;\">'\n",
    "html_output += 'The current Top 5'\n",
    "html_output += '</div>'\n",
    "html_output += '<hr>'\n",
    "html_output += '<div style=\"display: flex;\">'\n",
    "\n",
    "# Loop to access the images of flags, etc.\n",
    "for i in range(5):\n",
    "    player_photo_url = selected_players['Photo'].iloc[i]\n",
    "    player_flag_url = selected_players['Flag'].iloc[i]\n",
    "    player_club_url = selected_players['Club Logo'].iloc[i]\n",
    "    player_name = selected_players['Name'].iloc[i]\n",
    "    predicted_score = selected_players['Predicted Score'].iloc[i]\n",
    "    actual_score = selected_players['Overall'].iloc[i]\n",
    "    best_pos = selected_players['Best Position'].iloc[i]\n",
    "\n",
    "    predicted_score = round(predicted_score, 2)\n",
    "    html_output += '<div style=\"display: flex; flex-direction: column; margin-right: 20px;\">'\n",
    "    html_output += f'<img src=\"{player_photo_url}\" width=\"300\" height=\"200\"/>'\n",
    "    html_output += f'<img src=\"{player_flag_url}\" width=\"50\" height=\"50\"/>'\n",
    "    html_output += f'<img src=\"{player_club_url}\" width=\"50\" height=\"50\"/>'\n",
    "    html_output += f'<b>{player_name}</b>'\n",
    "    html_output += f'Best Position: {best_pos}<br>Predicted Score: {predicted_score}<br>Actual Score: {actual_score}'\n",
    "    html_output += '</div>'\n",
    "\n",
    "html_output += '</div>'\n",
    "display(HTML(html_output))"
   ]
  },
  {
   "cell_type": "code",
   "execution_count": 35,
   "id": "e792f1f1",
   "metadata": {},
   "outputs": [],
   "source": [
    "Ronaldo = ['94', '5', '176', '83', '77', '90', '92', '94', '31', '15', '91', '34', '84', '88', '93', '96', '80', '85', '23', '14', '4', '93', '92', '91', '63', '90', '85', '7', '11', '187', '85', '81', '92', '92', '63', '86', '11', '76', '95', '29']\n",
    "Zidane = [ '96', '4', '170', '97', '96', '78', '88', '92', '78', '15', '96', '64', '94', '93', '97', '96', '88', '97', '67', '12', '5', '91', '97', '86', '87', '94', '90', '10', '7', '185', '87', '89', '84', '90', '79', '97', '8', '92', '75', '85']\n",
    "Gerrard = ['91', '3', '183', '93', '95', '71', '89', '89', '79', '13', '89', '76', '88', '84', '92', '87', '82', '88', '74', '5', '3', '88', '85', '75', '69', '95', '85', '13', '10', '183', '75', '84', '78', '92', '85', '84', '15', '82', '74', '76']\n",
    "Casillas = ['91', '1', '185', '60', '57', '68', '61', '21', '17', '84', '90', '30', '30', '28', '34', '90', '70', '79', '22', '88', '1', '32', '30', '62', '58', '29', '30', '90', '93', '185', '38', '25', '54', '64', '31', '81', '88', '28', '83', '41']\n",
    "Maldini = ['92', '2', '183', '81', '79', '67', '85', '35', '91', '11', '94', '90', '78', '65', '67', '84', '79', '68', '90', '8', '4', '54', '57', '87', '69', '38', '54', '15', '7', '186', '91', '36', '87', '73', '66', '88', '6', '31', '82', '90']"
   ]
  },
  {
   "cell_type": "code",
   "execution_count": 36,
   "id": "78f66920",
   "metadata": {},
   "outputs": [
    {
     "name": "stdout",
     "output_type": "stream",
     "text": [
      "[90.69041082 95.47914766 88.63948295 92.97463357 91.12765571]\n"
     ]
    },
    {
     "name": "stderr",
     "output_type": "stream",
     "text": [
      "C:\\Users\\Hamza Khattak\\TechWorks\\Python\\lib\\site-packages\\sklearn\\base.py:464: UserWarning: X does not have valid feature names, but ElasticNet was fitted with feature names\n",
      "  warnings.warn(\n"
     ]
    }
   ],
   "source": [
    "Myteams = [Ronaldo, Zidane, Gerrard, Maldini, Casillas]\n",
    "Myteam =  np.array(Myteams, dtype=float)\n",
    "prediction = elastic_net.predict(Myteam)\n",
    "# Print the prediction\n",
    "print(prediction)"
   ]
  },
  {
   "cell_type": "markdown",
   "id": "c5f4df05",
   "metadata": {},
   "source": [
    "https://www.fut.gg/players/\n",
    "\n",
    "\n",
    "https://www.fifaindex.com/players/top/"
   ]
  },
  {
   "cell_type": "code",
   "execution_count": 37,
   "id": "e82716ee",
   "metadata": {},
   "outputs": [
    {
     "data": {
      "text/html": [
       "<div>\n",
       "<style scoped>\n",
       "    .dataframe tbody tr th:only-of-type {\n",
       "        vertical-align: middle;\n",
       "    }\n",
       "\n",
       "    .dataframe tbody tr th {\n",
       "        vertical-align: top;\n",
       "    }\n",
       "\n",
       "    .dataframe thead th {\n",
       "        text-align: right;\n",
       "    }\n",
       "</style>\n",
       "<table border=\"1\" class=\"dataframe\">\n",
       "  <thead>\n",
       "    <tr style=\"text-align: right;\">\n",
       "      <th></th>\n",
       "      <th>Name</th>\n",
       "      <th>Potential</th>\n",
       "      <th>Skill Moves</th>\n",
       "      <th>Weight(kgs)</th>\n",
       "      <th>ShortPassing</th>\n",
       "      <th>LongPassing</th>\n",
       "      <th>Agility</th>\n",
       "      <th>Stamina</th>\n",
       "      <th>Positioning</th>\n",
       "      <th>StandingTackle</th>\n",
       "      <th>...</th>\n",
       "      <th>Composure</th>\n",
       "      <th>GKHandling</th>\n",
       "      <th>FKAccuracy</th>\n",
       "      <th>Jumping</th>\n",
       "      <th>Interceptions</th>\n",
       "      <th>Photo</th>\n",
       "      <th>Flag</th>\n",
       "      <th>Club Logo</th>\n",
       "      <th>Best Position</th>\n",
       "      <th>Predicted Score</th>\n",
       "    </tr>\n",
       "  </thead>\n",
       "  <tbody>\n",
       "    <tr>\n",
       "      <th>0</th>\n",
       "      <td>Cristiano Ronaldo</td>\n",
       "      <td>94</td>\n",
       "      <td>5</td>\n",
       "      <td>176</td>\n",
       "      <td>83</td>\n",
       "      <td>77</td>\n",
       "      <td>90</td>\n",
       "      <td>92</td>\n",
       "      <td>94</td>\n",
       "      <td>31</td>\n",
       "      <td>...</td>\n",
       "      <td>86</td>\n",
       "      <td>11</td>\n",
       "      <td>76</td>\n",
       "      <td>95</td>\n",
       "      <td>29</td>\n",
       "      <td>https://cdn.sofifa.net/players/020/801/22_60.png</td>\n",
       "      <td>https://cdn.sofifa.net/flags/pt.png</td>\n",
       "      <td>https://cdn.sofifa.net/teams/243/30.png</td>\n",
       "      <td>LW</td>\n",
       "      <td>90.690411</td>\n",
       "    </tr>\n",
       "    <tr>\n",
       "      <th>1</th>\n",
       "      <td>Zinedine Zidane</td>\n",
       "      <td>96</td>\n",
       "      <td>4</td>\n",
       "      <td>170</td>\n",
       "      <td>97</td>\n",
       "      <td>96</td>\n",
       "      <td>78</td>\n",
       "      <td>88</td>\n",
       "      <td>92</td>\n",
       "      <td>78</td>\n",
       "      <td>...</td>\n",
       "      <td>97</td>\n",
       "      <td>8</td>\n",
       "      <td>92</td>\n",
       "      <td>75</td>\n",
       "      <td>85</td>\n",
       "      <td>https://game-assets.fut.gg/cdn-cgi/image/quali...</td>\n",
       "      <td>https://cdn.sofifa.net/flags/fr.png</td>\n",
       "      <td>https://cdn.sofifa.net/teams/243/30.png</td>\n",
       "      <td>CM</td>\n",
       "      <td>95.479148</td>\n",
       "    </tr>\n",
       "    <tr>\n",
       "      <th>2</th>\n",
       "      <td>Steven Gerrard</td>\n",
       "      <td>91</td>\n",
       "      <td>3</td>\n",
       "      <td>183</td>\n",
       "      <td>93</td>\n",
       "      <td>95</td>\n",
       "      <td>71</td>\n",
       "      <td>89</td>\n",
       "      <td>89</td>\n",
       "      <td>79</td>\n",
       "      <td>...</td>\n",
       "      <td>84</td>\n",
       "      <td>15</td>\n",
       "      <td>82</td>\n",
       "      <td>74</td>\n",
       "      <td>76</td>\n",
       "      <td>https://cdn.sofifa.net/players/013/743/17_60.png</td>\n",
       "      <td>https://cdn.sofifa.net/flags/gb-eng.png</td>\n",
       "      <td>https://cdn.sofifa.net/teams/9/30.png</td>\n",
       "      <td>CM</td>\n",
       "      <td>88.639483</td>\n",
       "    </tr>\n",
       "    <tr>\n",
       "      <th>3</th>\n",
       "      <td>Iker Casillas</td>\n",
       "      <td>91</td>\n",
       "      <td>1</td>\n",
       "      <td>185</td>\n",
       "      <td>60</td>\n",
       "      <td>57</td>\n",
       "      <td>68</td>\n",
       "      <td>61</td>\n",
       "      <td>21</td>\n",
       "      <td>17</td>\n",
       "      <td>...</td>\n",
       "      <td>81</td>\n",
       "      <td>88</td>\n",
       "      <td>28</td>\n",
       "      <td>83</td>\n",
       "      <td>41</td>\n",
       "      <td>https://cdn.sofifa.net/players/005/479/20_60.png</td>\n",
       "      <td>https://cdn.sofifa.net/flags/es.png</td>\n",
       "      <td>https://cdn.sofifa.net/teams/243/30.png</td>\n",
       "      <td>GK</td>\n",
       "      <td>92.974634</td>\n",
       "    </tr>\n",
       "    <tr>\n",
       "      <th>4</th>\n",
       "      <td>Paolo Maldini</td>\n",
       "      <td>92</td>\n",
       "      <td>2</td>\n",
       "      <td>183</td>\n",
       "      <td>81</td>\n",
       "      <td>79</td>\n",
       "      <td>67</td>\n",
       "      <td>85</td>\n",
       "      <td>35</td>\n",
       "      <td>91</td>\n",
       "      <td>...</td>\n",
       "      <td>88</td>\n",
       "      <td>6</td>\n",
       "      <td>31</td>\n",
       "      <td>82</td>\n",
       "      <td>90</td>\n",
       "      <td>https://game-assets.fut.gg/cdn-cgi/image/quali...</td>\n",
       "      <td>https://cdn.sofifa.net/flags/it.png</td>\n",
       "      <td>https://cdn.sofifa.net/teams/112893/30.png</td>\n",
       "      <td>CDM</td>\n",
       "      <td>91.127656</td>\n",
       "    </tr>\n",
       "  </tbody>\n",
       "</table>\n",
       "<p>5 rows × 46 columns</p>\n",
       "</div>"
      ],
      "text/plain": [
       "                Name  Potential  Skill Moves  Weight(kgs)  ShortPassing  \\\n",
       "0  Cristiano Ronaldo         94            5          176            83   \n",
       "1    Zinedine Zidane         96            4          170            97   \n",
       "2     Steven Gerrard         91            3          183            93   \n",
       "3      Iker Casillas         91            1          185            60   \n",
       "4      Paolo Maldini         92            2          183            81   \n",
       "\n",
       "   LongPassing  Agility  Stamina  Positioning  StandingTackle  ...  Composure  \\\n",
       "0           77       90       92           94              31  ...         86   \n",
       "1           96       78       88           92              78  ...         97   \n",
       "2           95       71       89           89              79  ...         84   \n",
       "3           57       68       61           21              17  ...         81   \n",
       "4           79       67       85           35              91  ...         88   \n",
       "\n",
       "   GKHandling  FKAccuracy  Jumping  Interceptions  \\\n",
       "0          11          76       95             29   \n",
       "1           8          92       75             85   \n",
       "2          15          82       74             76   \n",
       "3          88          28       83             41   \n",
       "4           6          31       82             90   \n",
       "\n",
       "                                               Photo  \\\n",
       "0   https://cdn.sofifa.net/players/020/801/22_60.png   \n",
       "1  https://game-assets.fut.gg/cdn-cgi/image/quali...   \n",
       "2   https://cdn.sofifa.net/players/013/743/17_60.png   \n",
       "3   https://cdn.sofifa.net/players/005/479/20_60.png   \n",
       "4  https://game-assets.fut.gg/cdn-cgi/image/quali...   \n",
       "\n",
       "                                      Flag  \\\n",
       "0      https://cdn.sofifa.net/flags/pt.png   \n",
       "1      https://cdn.sofifa.net/flags/fr.png   \n",
       "2  https://cdn.sofifa.net/flags/gb-eng.png   \n",
       "3      https://cdn.sofifa.net/flags/es.png   \n",
       "4      https://cdn.sofifa.net/flags/it.png   \n",
       "\n",
       "                                    Club Logo  Best Position  Predicted Score  \n",
       "0     https://cdn.sofifa.net/teams/243/30.png             LW        90.690411  \n",
       "1     https://cdn.sofifa.net/teams/243/30.png             CM        95.479148  \n",
       "2       https://cdn.sofifa.net/teams/9/30.png             CM        88.639483  \n",
       "3     https://cdn.sofifa.net/teams/243/30.png             GK        92.974634  \n",
       "4  https://cdn.sofifa.net/teams/112893/30.png            CDM        91.127656  \n",
       "\n",
       "[5 rows x 46 columns]"
      ]
     },
     "execution_count": 37,
     "metadata": {},
     "output_type": "execute_result"
    }
   ],
   "source": [
    "df2 = pd.read_csv(\"Myteam.csv\")\n",
    "df2['Predicted Score'] = prediction\n",
    "df2.head()"
   ]
  },
  {
   "cell_type": "code",
   "execution_count": 38,
   "id": "af56f577",
   "metadata": {},
   "outputs": [
    {
     "data": {
      "text/html": [
       "<div style=\"text-align: center; font-family: Arial; font-weight: bold; font-size: 24px;\">Hamza Top 5</div><hr><div style=\"display: flex;\"><div style=\"display: flex; flex-direction: column; margin-right: 20px;\"><img src=\"https://cdn.sofifa.net/players/020/801/22_60.png\" width=\"300\" height=\"200\"/><img src=\"https://cdn.sofifa.net/flags/pt.png\" width=\"50\" height=\"50\"/><img src=\"https://cdn.sofifa.net/teams/243/30.png\" width=\"50\" height=\"50\"/><b>Cristiano Ronaldo</b>Best Position: LW<br>Predicted Score: 90.69</div><div style=\"display: flex; flex-direction: column; margin-right: 20px;\"><img src=\"https://game-assets.fut.gg/cdn-cgi/image/quality=100,format=auto,width=500/2024/players/1397.1.png\" width=\"300\" height=\"200\"/><img src=\"https://cdn.sofifa.net/flags/fr.png\" width=\"50\" height=\"50\"/><img src=\"https://cdn.sofifa.net/teams/243/30.png\" width=\"50\" height=\"50\"/><b>Zinedine Zidane</b>Best Position: CM<br>Predicted Score: 95.48</div><div style=\"display: flex; flex-direction: column; margin-right: 20px;\"><img src=\"https://cdn.sofifa.net/players/013/743/17_60.png\" width=\"300\" height=\"200\"/><img src=\"https://cdn.sofifa.net/flags/gb-eng.png\" width=\"50\" height=\"50\"/><img src=\"https://cdn.sofifa.net/teams/9/30.png\" width=\"50\" height=\"50\"/><b>Steven Gerrard</b>Best Position: CM<br>Predicted Score: 88.64</div><div style=\"display: flex; flex-direction: column; margin-right: 20px;\"><img src=\"https://cdn.sofifa.net/players/005/479/20_60.png\" width=\"300\" height=\"200\"/><img src=\"https://cdn.sofifa.net/flags/es.png\" width=\"50\" height=\"50\"/><img src=\"https://cdn.sofifa.net/teams/243/30.png\" width=\"50\" height=\"50\"/><b>Iker Casillas</b>Best Position: GK<br>Predicted Score: 92.97</div><div style=\"display: flex; flex-direction: column; margin-right: 20px;\"><img src=\"https://game-assets.fut.gg/cdn-cgi/image/quality=100,format=auto,width=500/2024/players/238439.1.png\" width=\"300\" height=\"200\"/><img src=\"https://cdn.sofifa.net/flags/it.png\" width=\"50\" height=\"50\"/><img src=\"https://cdn.sofifa.net/teams/112893/30.png\" width=\"50\" height=\"50\"/><b>Paolo Maldini</b>Best Position: CDM<br>Predicted Score: 91.13</div></div>"
      ],
      "text/plain": [
       "<IPython.core.display.HTML object>"
      ]
     },
     "metadata": {},
     "output_type": "display_data"
    }
   ],
   "source": [
    "html_output = '<div style=\"text-align: center; font-family: Arial; font-weight: bold; font-size: 24px;\">'\n",
    "html_output += 'Hamza Top 5'\n",
    "html_output += '</div>'\n",
    "html_output += '<hr>'\n",
    "html_output += '<div style=\"display: flex;\">'\n",
    "\n",
    "# Loop to access the images of flags, etc.\n",
    "for i in range(5):\n",
    "    player_photo_url = df2['Photo'].iloc[i]\n",
    "    player_flag_url = df2['Flag'].iloc[i]\n",
    "    player_club_url = df2['Club Logo'].iloc[i]\n",
    "    player_name = df2['Name'].iloc[i]\n",
    "    predicted_score = df2['Predicted Score'].iloc[i]\n",
    "    best_pos = df2['Best Position'].iloc[i]\n",
    "\n",
    "    \n",
    "    predicted_score = round(predicted_score, 2)\n",
    "    html_output += '<div style=\"display: flex; flex-direction: column; margin-right: 20px;\">'\n",
    "    html_output += f'<img src=\"{player_photo_url}\" width=\"300\" height=\"200\"/>'\n",
    "    html_output += f'<img src=\"{player_flag_url}\" width=\"50\" height=\"50\"/>'\n",
    "    html_output += f'<img src=\"{player_club_url}\" width=\"50\" height=\"50\"/>'\n",
    "    html_output += f'<b>{player_name}</b>'\n",
    "    html_output += f'Best Position: {best_pos}<br>Predicted Score: {predicted_score}'\n",
    "    html_output += '</div>'\n",
    "html_output += '</div>'\n",
    "display(HTML(html_output))"
   ]
  }
 ],
 "metadata": {
  "kernelspec": {
   "display_name": "Python 3 (ipykernel)",
   "language": "python",
   "name": "python3"
  },
  "language_info": {
   "codemirror_mode": {
    "name": "ipython",
    "version": 3
   },
   "file_extension": ".py",
   "mimetype": "text/x-python",
   "name": "python",
   "nbconvert_exporter": "python",
   "pygments_lexer": "ipython3",
   "version": "3.10.1"
  }
 },
 "nbformat": 4,
 "nbformat_minor": 5
}
